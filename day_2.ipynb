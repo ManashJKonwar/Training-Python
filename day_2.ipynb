{
 "cells": [
  {
   "attachments": {},
   "cell_type": "markdown",
   "metadata": {},
   "source": [
    "# **Day 2/5**: Python Training\n",
    "\n",
    "The objective of this notebook is to cover some important concepts which we came across during our day 2 of the python training session. In this notebook, we will quickly cover 2 important concepts - Conditions & Loops and also go through Functions \n",
    "\n",
    "Refer to the outline of this notebook below to browse through different sections of this notebook.  "
   ]
  },
  {
   "attachments": {},
   "cell_type": "markdown",
   "metadata": {},
   "source": [
    "## **Table of Contents**  \n",
    "* [Conditions and Loops](#conditions-and-loops)  \n",
    "    * [If else condition](#if-else-condition)  \n",
    "    * [Use of elif statement](#use-of-elif-statement)  \n",
    "    * [Relational operators](#relational-operators)\n",
    "    * [Logical operators](#logical-operators)  \n",
    "    * [For loops](#for-loops)  \n",
    "    * [While loops](#while-loops)  \n",
    "    * [Exception handling](#exception-handling)\n",
    "* [Functions](#functions)  \n",
    "    * [Types of functions](#types-of-functions)  \n",
    "        * [Built in functions](#built-in-functions)  \n",
    "        * [Recursion functions](#recursion-functions)  \n",
    "        * [Lambda functions](#lambda-functions)  \n",
    "        * [User Defined functions](#user-defined-functions)  "
   ]
  },
  {
   "attachments": {},
   "cell_type": "markdown",
   "metadata": {},
   "source": [
    "## **Conditions and Loops**\n",
    "\n",
    "[Back to contents](#table-of-contents)"
   ]
  },
  {
   "attachments": {},
   "cell_type": "markdown",
   "metadata": {},
   "source": [
    "### If else condtion"
   ]
  },
  {
   "cell_type": "code",
   "execution_count": 1,
   "metadata": {},
   "outputs": [
    {
     "name": "stdout",
     "output_type": "stream",
     "text": [
      "b is greater than a\n"
     ]
    }
   ],
   "source": [
    "# Simple if else condition\n",
    "a = 5\n",
    "b = 10\n",
    "\n",
    "if a>b:\n",
    "    print('a is greater than b')\n",
    "else:\n",
    "    print('b is greater than a')"
   ]
  },
  {
   "cell_type": "code",
   "execution_count": 2,
   "metadata": {},
   "outputs": [
    {
     "name": "stdout",
     "output_type": "stream",
     "text": [
      "a is less than b and also less than c\n"
     ]
    }
   ],
   "source": [
    "# Nested if else condition\n",
    "a = 5\n",
    "b = 10\n",
    "c = 20\n",
    "\n",
    "if a>b:\n",
    "    print('a is greater than b')\n",
    "    \n",
    "    if a>c:\n",
    "        print('a is greater than b and also greater than c')\n",
    "    else:\n",
    "        print('a is greater than b but less than c')\n",
    "else:\n",
    "    if a>c:\n",
    "        print('a is less than b but greater than c')\n",
    "    else:\n",
    "        print('a is less than b and also less than c')"
   ]
  },
  {
   "attachments": {},
   "cell_type": "markdown",
   "metadata": {},
   "source": [
    "### Use of elif statement"
   ]
  },
  {
   "cell_type": "code",
   "execution_count": 3,
   "metadata": {},
   "outputs": [
    {
     "name": "stdout",
     "output_type": "stream",
     "text": [
      "a is a float data type\n"
     ]
    }
   ],
   "source": [
    "# Elif statement could be use to perform multiple conditional\n",
    "a = 55.5\n",
    "\n",
    "if isinstance(a, int):\n",
    "    print('a is an integer data type')\n",
    "elif isinstance(a, float):\n",
    "    print('a is a float data type')\n",
    "elif isinstance(a, str):\n",
    "    print('a is string data type')\n",
    "else:\n",
    "    print('a is unknown data type')"
   ]
  },
  {
   "attachments": {},
   "cell_type": "markdown",
   "metadata": {},
   "source": [
    "### Relational Operators"
   ]
  },
  {
   "cell_type": "code",
   "execution_count": 4,
   "metadata": {},
   "outputs": [
    {
     "name": "stdout",
     "output_type": "stream",
     "text": [
      "a is equal to b\n",
      "a is not equal to b\n",
      "a is greater than b\n",
      "a is greater than or equal to b\n",
      "a is less than b\n",
      "a is less than or equal to b\n"
     ]
    }
   ],
   "source": [
    "# Use of relational operators\n",
    "\n",
    "# Equal to\n",
    "a = 5\n",
    "b = 5\n",
    "if a==b:\n",
    "    print('a is equal to b')\n",
    "else:\n",
    "    print('a is not equal to b')\n",
    "    \n",
    "# Not Equal to\n",
    "a = 5\n",
    "b = 10\n",
    "if a!=b:\n",
    "    print('a is not equal to b')\n",
    "else:\n",
    "    print('a is equal to b')\n",
    "\n",
    "# Greater than\n",
    "a = 10\n",
    "b = 5\n",
    "if a>b:\n",
    "    print('a is greater than b')\n",
    "else:\n",
    "    print('a is less than b')\n",
    "    \n",
    "# Greater than or equal to\n",
    "a = 5\n",
    "b = 5\n",
    "if a>=b:\n",
    "    print('a is greater than or equal to b')\n",
    "else:\n",
    "    print('a is less than b')\n",
    "    \n",
    "# Less than \n",
    "a = 5\n",
    "b = 10\n",
    "if a<b:\n",
    "    print('a is less than b')\n",
    "else:\n",
    "    print('a is greater than b')\n",
    "\n",
    "# Less than or equal to\n",
    "a = 5\n",
    "b = 5\n",
    "if a<=b:\n",
    "    print('a is less than or equal to b')\n",
    "else:\n",
    "    print('a is greater than b')"
   ]
  },
  {
   "attachments": {},
   "cell_type": "markdown",
   "metadata": {},
   "source": [
    "### Logical Operators"
   ]
  },
  {
   "cell_type": "code",
   "execution_count": 5,
   "metadata": {},
   "outputs": [
    {
     "name": "stdout",
     "output_type": "stream",
     "text": [
      "a is less than b and also less than c\n",
      "b is either greater than a or greater than c\n",
      "c is not less than b and also not less than c\n"
     ]
    }
   ],
   "source": [
    "# Use of logical operators\n",
    "\n",
    "# and\n",
    "a = 5\n",
    "b = 10 \n",
    "c = 20\n",
    "if a<b and a<c: # both these conditions must be true\n",
    "    print('a is less than b and also less than c')\n",
    "elif a<b and a>c:\n",
    "    print('a is less than b and greater than c')\n",
    "else:\n",
    "    print('cannot be logically accepted')\n",
    "    \n",
    "# or\n",
    "if b>a or b>c: # any of these conditions must be true\n",
    "    print('b is either greater than a or greater than c')\n",
    "else:\n",
    "    print('cannot be logically accepted')\n",
    "    \n",
    "# not\n",
    "if not (c<b and c<a):\n",
    "    print('c is not less than b and also not less than c')\n",
    "else:\n",
    "    print('cannot be logically accepted')"
   ]
  },
  {
   "attachments": {},
   "cell_type": "markdown",
   "metadata": {},
   "source": [
    "### For loops"
   ]
  },
  {
   "cell_type": "code",
   "execution_count": 6,
   "metadata": {},
   "outputs": [
    {
     "name": "stdout",
     "output_type": "stream",
     "text": [
      "Simple loop: 0\n",
      "Simple loop: 1\n",
      "Simple loop: 2\n",
      "Simple loop: 3\n",
      "Simple loop: 4\n",
      "\n",
      "\n",
      "Custom loop: 5\n",
      "Custom loop: 7\n",
      "Custom loop: 9\n"
     ]
    }
   ],
   "source": [
    "# Implementing a simple for loop\n",
    "\n",
    "# Use of range built in function\n",
    "n = 5\n",
    "for i in range(n):\n",
    "    print(\"Simple loop: \" + str(i))\n",
    "    \n",
    "print(\"\\n\") # Adds an empty line to the output for this cell\n",
    "\n",
    "# Use of range with custom stepper and start, stop range\n",
    "for i in range(5, 10, 2): \n",
    "    # Starts iterator from 5 upto 10 and considers every alternate element within this range\n",
    "    print(\"Custom loop: \" + str(i))"
   ]
  },
  {
   "cell_type": "code",
   "execution_count": 7,
   "metadata": {},
   "outputs": [
    {
     "name": "stdout",
     "output_type": "stream",
     "text": [
      "2 * 1 = 2\n",
      "2 * 2 = 4\n",
      "2 * 3 = 6\n",
      "2 * 4 = 8\n",
      "2 * 5 = 10\n",
      "2 * 6 = 12\n",
      "2 * 7 = 14\n",
      "2 * 8 = 16\n",
      "2 * 9 = 18\n",
      "2 * 10 = 20\n",
      "\n",
      "\n",
      "3 * 1 = 3\n",
      "3 * 2 = 6\n",
      "3 * 3 = 9\n",
      "3 * 4 = 12\n",
      "3 * 5 = 15\n",
      "3 * 6 = 18\n",
      "3 * 7 = 21\n",
      "3 * 8 = 24\n",
      "3 * 9 = 27\n",
      "3 * 10 = 30\n",
      "\n",
      "\n"
     ]
    }
   ],
   "source": [
    "# Implementing a nested for loop\n",
    "\n",
    "# Getting first 10 multiplication table based elements for outer loop based element\n",
    "for i in range(2, 4):\n",
    "    \n",
    "    # Running inner loop from 1 to 10\n",
    "    for j in range(1, 11):\n",
    "  \n",
    "        # Printing the multiplication of outer loop element and inner loop element\n",
    "        print(i, \"*\", j, \"=\", i*j)\n",
    "    \n",
    "    # Adding a new line to output in between multiplication table of outer loop elements\n",
    "    print(\"\\n\")"
   ]
  },
  {
   "cell_type": "code",
   "execution_count": 8,
   "metadata": {},
   "outputs": [
    {
     "name": "stdout",
     "output_type": "stream",
     "text": [
      "Continue loop statement: element02\n",
      "Continue loop statement: element03\n",
      "\n",
      "\n",
      "Break loop statement: element01\n",
      "\n",
      "\n"
     ]
    }
   ],
   "source": [
    "# Loop controlled statements\n",
    "training_list = [\"element01\", \"element02\", \"element03\"]\n",
    "\n",
    "# Use of \"continue\"\n",
    "for list_el in training_list:\n",
    "    if list_el == \"element01\" :\n",
    "        continue\n",
    "    print(\"Continue loop statement: \" + list_el)\n",
    "\n",
    "print(\"\\n\")\n",
    "\n",
    "# Use of \"break\"\n",
    "for list_el in training_list:\n",
    "    if list_el == \"element02\":\n",
    "        break\n",
    "    print(\"Break loop statement: \" + list_el)\n",
    "\n",
    "print(\"\\n\")\n",
    "\n",
    "# Use of \"pass\"\n",
    "for list_el in training_list:\n",
    "    pass"
   ]
  },
  {
   "attachments": {},
   "cell_type": "markdown",
   "metadata": {},
   "source": [
    "### While loops"
   ]
  },
  {
   "attachments": {},
   "cell_type": "markdown",
   "metadata": {},
   "source": [
    "### Exception handling"
   ]
  },
  {
   "attachments": {},
   "cell_type": "markdown",
   "metadata": {},
   "source": [
    "## **Functions**\n",
    "\n",
    "\n",
    "[Back to contents](#table-of-contents)"
   ]
  },
  {
   "attachments": {},
   "cell_type": "markdown",
   "metadata": {},
   "source": [
    "### Types of functions"
   ]
  },
  {
   "attachments": {},
   "cell_type": "markdown",
   "metadata": {},
   "source": [
    "#### Built in functions"
   ]
  },
  {
   "attachments": {},
   "cell_type": "markdown",
   "metadata": {},
   "source": [
    "#### Recursion functions"
   ]
  },
  {
   "attachments": {},
   "cell_type": "markdown",
   "metadata": {},
   "source": [
    "#### Lambda functions"
   ]
  },
  {
   "attachments": {},
   "cell_type": "markdown",
   "metadata": {},
   "source": [
    "#### User defined functions"
   ]
  }
 ],
 "metadata": {
  "kernelspec": {
   "display_name": "trainingPythonVenv",
   "language": "python",
   "name": "python3"
  },
  "language_info": {
   "codemirror_mode": {
    "name": "ipython",
    "version": 3
   },
   "file_extension": ".py",
   "mimetype": "text/x-python",
   "name": "python",
   "nbconvert_exporter": "python",
   "pygments_lexer": "ipython3",
   "version": "3.11.1"
  },
  "orig_nbformat": 4,
  "vscode": {
   "interpreter": {
    "hash": "0f7ad6c2ff82035f801958456177196141e0bcf066c32398566673996f542d5a"
   }
  }
 },
 "nbformat": 4,
 "nbformat_minor": 2
}
