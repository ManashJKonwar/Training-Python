{
 "cells": [
  {
   "attachments": {},
   "cell_type": "markdown",
   "metadata": {},
   "source": [
    "# **Day 2/5**: Python Training\n",
    "\n",
    "The objective of this notebook is to cover some important concepts which we came across during our day 2 of the python training session. In this notebook, we will quickly cover 2 important concepts - Conditions & Loops and also go through Functions \n",
    "\n",
    "Refer to the outline of this notebook below to browse through different sections of this notebook.  "
   ]
  },
  {
   "attachments": {},
   "cell_type": "markdown",
   "metadata": {},
   "source": [
    "## **Table of Contents**  \n",
    "* [Conditions and Loops](#conditions-and-loops)  \n",
    "    * [If else condition](#if-else-condition)  \n",
    "    * [Use of elif statement](#use-of-elif-statement)  \n",
    "    * [Relational operators](#relational-operators)\n",
    "    * [Logical operators](#logical-operators)  \n",
    "    * [For loops](#for-loops)  \n",
    "    * [While loops](#while-loops)  \n",
    "    * [Exception handling](#exception-handling)\n",
    "* [Functions](#functions)  \n",
    "    * [Types of functions](#types-of-functions)  \n",
    "        * [Built in functions](#built-in-functions)  \n",
    "        * [Recursion functions](#recursion-functions)  \n",
    "        * [Lambda functions](#lambda-functions)  \n",
    "        * [User Defined functions](#user-defined-functions)   \n",
    "    * [Difference between function and method](#difference-between-function-and-method)  \n",
    "    * [Variable Declaration](#variable-declaration)  \n",
    "    * [Absolute and Boolean functions](#absolute-and-boolean-functions)  "
   ]
  },
  {
   "attachments": {},
   "cell_type": "markdown",
   "metadata": {},
   "source": [
    "## **Conditions and Loops**\n",
    "\n",
    "[Back to contents](#table-of-contents)"
   ]
  },
  {
   "attachments": {},
   "cell_type": "markdown",
   "metadata": {},
   "source": [
    "### If else condtion"
   ]
  },
  {
   "cell_type": "code",
   "execution_count": 1,
   "metadata": {},
   "outputs": [
    {
     "name": "stdout",
     "output_type": "stream",
     "text": [
      "b is greater than a\n"
     ]
    }
   ],
   "source": [
    "# Simple if else condition\n",
    "a = 5\n",
    "b = 10\n",
    "\n",
    "if a>b:\n",
    "    print('a is greater than b')\n",
    "else:\n",
    "    print('b is greater than a')"
   ]
  },
  {
   "cell_type": "code",
   "execution_count": 2,
   "metadata": {},
   "outputs": [
    {
     "name": "stdout",
     "output_type": "stream",
     "text": [
      "a is less than b and also less than c\n"
     ]
    }
   ],
   "source": [
    "# Nested if else condition\n",
    "a = 5\n",
    "b = 10\n",
    "c = 20\n",
    "\n",
    "if a>b:\n",
    "    print('a is greater than b')\n",
    "    \n",
    "    if a>c:\n",
    "        print('a is greater than b and also greater than c')\n",
    "    else:\n",
    "        print('a is greater than b but less than c')\n",
    "else:\n",
    "    if a>c:\n",
    "        print('a is less than b but greater than c')\n",
    "    else:\n",
    "        print('a is less than b and also less than c')"
   ]
  },
  {
   "attachments": {},
   "cell_type": "markdown",
   "metadata": {},
   "source": [
    "### Use of elif statement"
   ]
  },
  {
   "cell_type": "code",
   "execution_count": 3,
   "metadata": {},
   "outputs": [
    {
     "name": "stdout",
     "output_type": "stream",
     "text": [
      "a is a float data type\n"
     ]
    }
   ],
   "source": [
    "# Elif statement could be use to perform multiple conditional\n",
    "a = 55.5\n",
    "\n",
    "if isinstance(a, int):\n",
    "    print('a is an integer data type')\n",
    "elif isinstance(a, float):\n",
    "    print('a is a float data type')\n",
    "elif isinstance(a, str):\n",
    "    print('a is string data type')\n",
    "else:\n",
    "    print('a is unknown data type')"
   ]
  },
  {
   "attachments": {},
   "cell_type": "markdown",
   "metadata": {},
   "source": [
    "### Relational Operators"
   ]
  },
  {
   "cell_type": "code",
   "execution_count": 4,
   "metadata": {},
   "outputs": [
    {
     "name": "stdout",
     "output_type": "stream",
     "text": [
      "a is equal to b\n",
      "a is not equal to b\n",
      "a is greater than b\n",
      "a is greater than or equal to b\n",
      "a is less than b\n",
      "a is less than or equal to b\n"
     ]
    }
   ],
   "source": [
    "# Use of relational operators\n",
    "\n",
    "# Equal to\n",
    "a = 5\n",
    "b = 5\n",
    "if a==b:\n",
    "    print('a is equal to b')\n",
    "else:\n",
    "    print('a is not equal to b')\n",
    "    \n",
    "# Not Equal to\n",
    "a = 5\n",
    "b = 10\n",
    "if a!=b:\n",
    "    print('a is not equal to b')\n",
    "else:\n",
    "    print('a is equal to b')\n",
    "\n",
    "# Greater than\n",
    "a = 10\n",
    "b = 5\n",
    "if a>b:\n",
    "    print('a is greater than b')\n",
    "else:\n",
    "    print('a is less than b')\n",
    "    \n",
    "# Greater than or equal to\n",
    "a = 5\n",
    "b = 5\n",
    "if a>=b:\n",
    "    print('a is greater than or equal to b')\n",
    "else:\n",
    "    print('a is less than b')\n",
    "    \n",
    "# Less than \n",
    "a = 5\n",
    "b = 10\n",
    "if a<b:\n",
    "    print('a is less than b')\n",
    "else:\n",
    "    print('a is greater than b')\n",
    "\n",
    "# Less than or equal to\n",
    "a = 5\n",
    "b = 5\n",
    "if a<=b:\n",
    "    print('a is less than or equal to b')\n",
    "else:\n",
    "    print('a is greater than b')"
   ]
  },
  {
   "attachments": {},
   "cell_type": "markdown",
   "metadata": {},
   "source": [
    "### Logical Operators"
   ]
  },
  {
   "cell_type": "code",
   "execution_count": 5,
   "metadata": {},
   "outputs": [
    {
     "name": "stdout",
     "output_type": "stream",
     "text": [
      "a is less than b and also less than c\n",
      "b is either greater than a or greater than c\n",
      "c is not less than b and also not less than c\n"
     ]
    }
   ],
   "source": [
    "# Use of logical operators\n",
    "\n",
    "# and\n",
    "a = 5\n",
    "b = 10 \n",
    "c = 20\n",
    "if a<b and a<c: # both these conditions must be true\n",
    "    print('a is less than b and also less than c')\n",
    "elif a<b and a>c:\n",
    "    print('a is less than b and greater than c')\n",
    "else:\n",
    "    print('cannot be logically accepted')\n",
    "    \n",
    "# or\n",
    "if b>a or b>c: # any of these conditions must be true\n",
    "    print('b is either greater than a or greater than c')\n",
    "else:\n",
    "    print('cannot be logically accepted')\n",
    "    \n",
    "# not\n",
    "if not (c<b and c<a):\n",
    "    print('c is not less than b and also not less than c')\n",
    "else:\n",
    "    print('cannot be logically accepted')"
   ]
  },
  {
   "attachments": {},
   "cell_type": "markdown",
   "metadata": {},
   "source": [
    "### For loops"
   ]
  },
  {
   "cell_type": "code",
   "execution_count": 6,
   "metadata": {},
   "outputs": [
    {
     "name": "stdout",
     "output_type": "stream",
     "text": [
      "Simple for loop: 0\n",
      "Simple for loop: 1\n",
      "Simple for loop: 2\n",
      "Simple for loop: 3\n",
      "Simple for loop: 4\n",
      "\n",
      "\n",
      "Custom for loop: 5\n",
      "Custom for loop: 7\n",
      "Custom for loop: 9\n"
     ]
    }
   ],
   "source": [
    "# Implementing a simple for loop\n",
    "\n",
    "# Use of range built in function\n",
    "n = 5\n",
    "for i in range(n):\n",
    "    print(\"Simple for loop: \" + str(i))\n",
    "    \n",
    "print(\"\\n\") # Adds an empty line to the output for this cell\n",
    "\n",
    "# Use of range with custom stepper and start, stop range\n",
    "for i in range(5, 10, 2): \n",
    "    # Starts iterator from 5 upto 10 and considers every alternate element within this range\n",
    "    print(\"Custom for loop: \" + str(i))"
   ]
  },
  {
   "cell_type": "code",
   "execution_count": 7,
   "metadata": {},
   "outputs": [
    {
     "name": "stdout",
     "output_type": "stream",
     "text": [
      "2 * 1 = 2\n",
      "2 * 2 = 4\n",
      "2 * 3 = 6\n",
      "2 * 4 = 8\n",
      "2 * 5 = 10\n",
      "2 * 6 = 12\n",
      "2 * 7 = 14\n",
      "2 * 8 = 16\n",
      "2 * 9 = 18\n",
      "2 * 10 = 20\n",
      "\n",
      "\n",
      "3 * 1 = 3\n",
      "3 * 2 = 6\n",
      "3 * 3 = 9\n",
      "3 * 4 = 12\n",
      "3 * 5 = 15\n",
      "3 * 6 = 18\n",
      "3 * 7 = 21\n",
      "3 * 8 = 24\n",
      "3 * 9 = 27\n",
      "3 * 10 = 30\n",
      "\n",
      "\n"
     ]
    }
   ],
   "source": [
    "# Implementing a nested for loop\n",
    "\n",
    "# Getting first 10 multiplication table based elements for outer loop based element\n",
    "for i in range(2, 4):\n",
    "    \n",
    "    # Running inner loop from 1 to 10\n",
    "    for j in range(1, 11):\n",
    "  \n",
    "        # Printing the multiplication of outer loop element and inner loop element\n",
    "        print(i, \"*\", j, \"=\", i*j)\n",
    "    \n",
    "    # Adding a new line to output in between multiplication table of outer loop elements\n",
    "    print(\"\\n\")"
   ]
  },
  {
   "cell_type": "code",
   "execution_count": 8,
   "metadata": {},
   "outputs": [
    {
     "name": "stdout",
     "output_type": "stream",
     "text": [
      "Continue loop statement with for loop: element02\n",
      "Continue loop statement with for loop: element03\n",
      "\n",
      "\n",
      "Break loop statement with for loop: element01\n",
      "\n",
      "\n"
     ]
    }
   ],
   "source": [
    "# Loop controlled statements\n",
    "training_list = [\"element01\", \"element02\", \"element03\"]\n",
    "\n",
    "# Use of \"continue\"\n",
    "for list_el in training_list:\n",
    "    if list_el == \"element01\" :\n",
    "        continue\n",
    "    print(\"Continue loop statement with for loop: \" + list_el)\n",
    "\n",
    "print(\"\\n\")\n",
    "\n",
    "# Use of \"break\"\n",
    "for list_el in training_list:\n",
    "    if list_el == \"element02\":\n",
    "        break\n",
    "    print(\"Break loop statement with for loop: \" + list_el)\n",
    "\n",
    "print(\"\\n\")\n",
    "\n",
    "# Use of \"pass\"\n",
    "for list_el in training_list:\n",
    "    pass"
   ]
  },
  {
   "attachments": {},
   "cell_type": "markdown",
   "metadata": {},
   "source": [
    "### While loops"
   ]
  },
  {
   "cell_type": "code",
   "execution_count": 9,
   "metadata": {},
   "outputs": [
    {
     "name": "stdout",
     "output_type": "stream",
     "text": [
      "Simple while loop: 1\n",
      "Simple while loop: 2\n",
      "Simple while loop: 3\n",
      "Simple while loop: 4\n",
      "Simple while loop: 5\n",
      "Simple while loop: 6\n",
      "Simple while loop: 7\n",
      "Simple while loop: 8\n",
      "Simple while loop: 9\n",
      "Simple while loop: 10\n"
     ]
    }
   ],
   "source": [
    "# Implementing a simple while loop\n",
    "\n",
    "i = 1\n",
    "n = 10\n",
    "# while loop from i = 1 to 10\n",
    "while i <= n: \n",
    "    print(\"Simple while loop: \" + str(i))\n",
    "    i = i + 1"
   ]
  },
  {
   "cell_type": "code",
   "execution_count": 10,
   "metadata": {},
   "outputs": [
    {
     "name": "stdout",
     "output_type": "stream",
     "text": [
      "Continue loop statement with while loop: d\n",
      "Continue loop statement with while loop: y\n",
      "Continue loop statement with while loop: 2\n",
      "Continue loop statement with while loop: _\n",
      "Continue loop statement with while loop: t\n",
      "Continue loop statement with while loop: r\n",
      "Continue loop statement with while loop: i\n",
      "Continue loop statement with while loop: n\n",
      "Continue loop statement with while loop: i\n",
      "Continue loop statement with while loop: n\n",
      "Continue loop statement with while loop: g\n",
      "\n",
      "\n",
      "Break loop statement with while loop: d\n",
      "Break loop statement with while loop: a\n",
      "Break loop statement with while loop: y\n",
      "\n",
      "\n"
     ]
    }
   ],
   "source": [
    "# Loop controlled statements\n",
    "i = 0\n",
    "training_str = \"day2_training\"\n",
    "\n",
    "# Use of \"continue\"\n",
    "while i < len(training_str):\n",
    "    if training_str[i] == \"a\" :\n",
    "        i+=1\n",
    "        continue\n",
    "    print(\"Continue loop statement with while loop: \" + training_str[i])\n",
    "    i+=1\n",
    "\n",
    "print(\"\\n\")\n",
    "\n",
    "i = 0\n",
    "# Use of \"break\"\n",
    "while i < len(training_str):\n",
    "    if training_str[i] == \"2\" :\n",
    "        break\n",
    "    print(\"Break loop statement with while loop: \" + training_str[i])\n",
    "    i+=1\n",
    "\n",
    "print(\"\\n\")\n",
    "\n",
    "i = 0\n",
    "# Use of \"pass\"\n",
    "while i < len(training_str):\n",
    "    i += 1\n",
    "    pass"
   ]
  },
  {
   "attachments": {},
   "cell_type": "markdown",
   "metadata": {},
   "source": [
    "### Exception handling"
   ]
  },
  {
   "cell_type": "code",
   "execution_count": 11,
   "metadata": {},
   "outputs": [
    {
     "ename": "ZeroDivisionError",
     "evalue": "division by zero",
     "output_type": "error",
     "traceback": [
      "\u001b[1;31m---------------------------------------------------------------------------\u001b[0m",
      "\u001b[1;31mZeroDivisionError\u001b[0m                         Traceback (most recent call last)",
      "Cell \u001b[1;32mIn[11], line 3\u001b[0m\n\u001b[0;32m      1\u001b[0m \u001b[39m# Dividing any no by 0 in python causes the code to break and avoids \u001b[39;00m\n\u001b[0;32m      2\u001b[0m \u001b[39m# remaining code to not execute\u001b[39;00m\n\u001b[1;32m----> 3\u001b[0m \u001b[39mprint\u001b[39m(\u001b[39m1\u001b[39;49m\u001b[39m/\u001b[39;49m\u001b[39m0\u001b[39;49m)\n\u001b[0;32m      4\u001b[0m \u001b[39mprint\u001b[39m(\u001b[39m2\u001b[39m)\n",
      "\u001b[1;31mZeroDivisionError\u001b[0m: division by zero"
     ]
    }
   ],
   "source": [
    "# Dividing any no by 0 in python causes the code to break and avoids \n",
    "# remaining code to not execute\n",
    "print(1/0)\n",
    "print(2)"
   ]
  },
  {
   "cell_type": "code",
   "execution_count": 12,
   "metadata": {},
   "outputs": [
    {
     "name": "stdout",
     "output_type": "stream",
     "text": [
      "Division by 0 has happended\n",
      "2\n"
     ]
    }
   ],
   "source": [
    "# Implementing try-except block for catching exceptions\n",
    "\n",
    "# Proper execption handling is done to catch thsi zero division error, hence\n",
    "# resulting in running the remaining code\n",
    "try:\n",
    "    print(1/0)\n",
    "except Exception:\n",
    "    print('Division by 0 has happended')\n",
    "    \n",
    "print(2)"
   ]
  },
  {
   "cell_type": "code",
   "execution_count": 13,
   "metadata": {},
   "outputs": [
    {
     "name": "stdout",
     "output_type": "stream",
     "text": [
      "key does not exist\n",
      "{'a': 1, 'b': 2, 'c': 3}\n"
     ]
    }
   ],
   "source": [
    "# Implementing try-except block for catching specific key missiong error\n",
    "\n",
    "# Trying to get value for an unavailable key in a dictionary and then catching \n",
    "# this key mission error and adding this new key - value pair with some default value\n",
    "training_dict = {'a':1, 'b':2}\n",
    "\n",
    "try:\n",
    "    training_dict['c']\n",
    "except KeyError:\n",
    "    print('key does not exist')\n",
    "    training_dict['c'] = 3\n",
    "print(training_dict)"
   ]
  },
  {
   "attachments": {},
   "cell_type": "markdown",
   "metadata": {},
   "source": [
    "## **Functions**\n",
    "\n",
    "\n",
    "[Back to contents](#table-of-contents)"
   ]
  },
  {
   "attachments": {},
   "cell_type": "markdown",
   "metadata": {},
   "source": [
    "### Types of functions"
   ]
  },
  {
   "attachments": {},
   "cell_type": "markdown",
   "metadata": {},
   "source": [
    "#### Built in functions"
   ]
  },
  {
   "cell_type": "code",
   "execution_count": 14,
   "metadata": {},
   "outputs": [
    {
     "name": "stdout",
     "output_type": "stream",
     "text": [
      "100.25\n",
      "This is an example\n",
      "4\n",
      "['training', 'day', '2']\n"
     ]
    }
   ],
   "source": [
    "# Few examples\n",
    "print(abs(-100.25)) # 'abs' is an built in function - returns the absolute value of a no\n",
    "print('This is an example') # 'print' is another built in function - prints an output to the python console\n",
    "print(len([1, 2, 3, 4])) # 'len' is another built in function - counts the no of elements within any sequential data type\n",
    "print(list(('training', 'day', '2'))) # 'list' is another built in function - retuns a list and converts any relevant data type"
   ]
  },
  {
   "attachments": {},
   "cell_type": "markdown",
   "metadata": {},
   "source": [
    "#### Recursion functions"
   ]
  },
  {
   "cell_type": "code",
   "execution_count": 15,
   "metadata": {},
   "outputs": [],
   "source": [
    "def recursive_func (x):\n",
    "    \"\"\"Recursively performs exponential of a given no\n",
    "\n",
    "    Args:\n",
    "        x (int): no for which factorial needs to be calculated\n",
    "    \n",
    "    Returns:\n",
    "        value of factorial\n",
    "    \"\"\"\n",
    "    if x == 1:\n",
    "        return 1\n",
    "    else:\n",
    "        return (x * recursive_func (x-1))"
   ]
  },
  {
   "cell_type": "code",
   "execution_count": 16,
   "metadata": {},
   "outputs": [
    {
     "name": "stdout",
     "output_type": "stream",
     "text": [
      "93326215443944152681699238856266700490715968264381621468592963895217599993229915608941463976156518286253697920827223758251185210916864000000000000000000000000\n"
     ]
    }
   ],
   "source": [
    "# 1st level: 100 * 99\n",
    "# 2nd level: 100 * 99 * 98\n",
    "# 3rd level: 100 * 99 * 98 * 97...\n",
    "# ....\n",
    "# ........\n",
    "# 100th level: 100 * 99 * 98 * 97 ..... * 1 = recursive fucntion value\n",
    "\n",
    "print(recursive_func(100))"
   ]
  },
  {
   "attachments": {},
   "cell_type": "markdown",
   "metadata": {},
   "source": [
    "#### Lambda functions"
   ]
  },
  {
   "cell_type": "code",
   "execution_count": 17,
   "metadata": {},
   "outputs": [
    {
     "name": "stdout",
     "output_type": "stream",
     "text": [
      "15625\n"
     ]
    }
   ],
   "source": [
    "square = lambda x : x ** 2\n",
    "\n",
    "print(square(125))"
   ]
  },
  {
   "attachments": {},
   "cell_type": "markdown",
   "metadata": {},
   "source": [
    "#### User defined functions"
   ]
  },
  {
   "cell_type": "code",
   "execution_count": 18,
   "metadata": {},
   "outputs": [],
   "source": [
    "# This is an example of a function\n",
    "def training_day2 (x, y):\n",
    "    \"\"\"Calculates the sum of two elements\n",
    "\n",
    "    Args:\n",
    "        x (float): 1st element to consider for summation\n",
    "        y (float): 2nd element to consider for summation\n",
    "    \"\"\"\n",
    "    return x + y"
   ]
  },
  {
   "cell_type": "code",
   "execution_count": 19,
   "metadata": {},
   "outputs": [
    {
     "name": "stdout",
     "output_type": "stream",
     "text": [
      "30\n"
     ]
    }
   ],
   "source": [
    "# Calling an user defined function\n",
    "print(training_day2(10, 20)) "
   ]
  },
  {
   "attachments": {},
   "cell_type": "markdown",
   "metadata": {},
   "source": [
    "### Difference between function and method"
   ]
  },
  {
   "cell_type": "code",
   "execution_count": 20,
   "metadata": {},
   "outputs": [],
   "source": [
    "# This is an example of a function\n",
    "def training_day2 (x, y):\n",
    "    \"\"\"Calculates the sum of two elements\n",
    "\n",
    "    Args:\n",
    "        x (float): 1st element to consider for summation\n",
    "        y (float): 2nd element to consider for summation\n",
    "    \"\"\"\n",
    "    return x + y\n",
    "\n",
    "# This is similar execution using method\n",
    "class PerformSum:\n",
    "    def __init__(self):\n",
    "        pass\n",
    "    \n",
    "    def training_day2_method (self, x, y):\n",
    "        \"\"\"Calculates the sum of two elements\n",
    "\n",
    "        Args:\n",
    "            x (float): 1st element to consider for summation\n",
    "            y (float): 2nd element to consider for summation\n",
    "        \"\"\"\n",
    "        return x + y"
   ]
  },
  {
   "cell_type": "code",
   "execution_count": 21,
   "metadata": {},
   "outputs": [
    {
     "name": "stdout",
     "output_type": "stream",
     "text": [
      "30\n",
      "120\n"
     ]
    }
   ],
   "source": [
    "# Calling a function\n",
    "print(training_day2(10, 20)) \n",
    "\n",
    "# Calling a method which is associated with an object\n",
    "performsum_instance = PerformSum()\n",
    "print(performsum_instance.training_day2_method(x=100, y=20))"
   ]
  },
  {
   "attachments": {},
   "cell_type": "markdown",
   "metadata": {},
   "source": [
    "### Variable Declaration"
   ]
  },
  {
   "cell_type": "code",
   "execution_count": 22,
   "metadata": {},
   "outputs": [],
   "source": [
    "# a is a global variable since it can be accessed anywhere within your script\n",
    "# b, c are local functions which exists and are accessible within the local_variable function\n",
    "\n",
    "a = 2\n",
    "def local_variable ():\n",
    "    b = 1\n",
    "    c = 2\n",
    "    return b + c"
   ]
  },
  {
   "cell_type": "code",
   "execution_count": 23,
   "metadata": {},
   "outputs": [
    {
     "name": "stdout",
     "output_type": "stream",
     "text": [
      "3\n"
     ]
    }
   ],
   "source": [
    "print(local_variable())"
   ]
  },
  {
   "attachments": {},
   "cell_type": "markdown",
   "metadata": {},
   "source": [
    "#### Accessing global variables within an function"
   ]
  },
  {
   "cell_type": "code",
   "execution_count": 24,
   "metadata": {},
   "outputs": [],
   "source": [
    "b = 5\n",
    "def local_variable ():\n",
    "    global b\n",
    "    c = 2\n",
    "    return b+c"
   ]
  },
  {
   "cell_type": "code",
   "execution_count": 25,
   "metadata": {},
   "outputs": [
    {
     "name": "stdout",
     "output_type": "stream",
     "text": [
      "7\n"
     ]
    }
   ],
   "source": [
    "print(local_variable())"
   ]
  },
  {
   "attachments": {},
   "cell_type": "markdown",
   "metadata": {},
   "source": [
    "### Absolute and Boolean functions"
   ]
  },
  {
   "cell_type": "code",
   "execution_count": 26,
   "metadata": {},
   "outputs": [
    {
     "data": {
      "text/plain": [
       "51"
      ]
     },
     "execution_count": 26,
     "metadata": {},
     "output_type": "execute_result"
    }
   ],
   "source": [
    "def calculate_absolute (x):\n",
    "    \"\"\"\n",
    "    This is an example of absolute function for day 2 of\n",
    "    our training\n",
    "    \"\"\"\n",
    "    sum = 0\n",
    "    for item in x:\n",
    "        sum+=item\n",
    "    return sum\n",
    "\n",
    "calculate_absolute ([1, 5, 10, 15, 20])"
   ]
  },
  {
   "cell_type": "code",
   "execution_count": 27,
   "metadata": {},
   "outputs": [
    {
     "data": {
      "text/plain": [
       "True"
      ]
     },
     "execution_count": 27,
     "metadata": {},
     "output_type": "execute_result"
    }
   ],
   "source": [
    "def check_boolean (x):\n",
    "    \"\"\"\n",
    "    This is an example of boolean function for day 2 of\n",
    "    our training\n",
    "    \"\"\"\n",
    "    is_float = False\n",
    "    if isinstance (x, float):\n",
    "        is_float = True\n",
    "    return is_float\n",
    "\n",
    "check_boolean(1.25)"
   ]
  }
 ],
 "metadata": {
  "kernelspec": {
   "display_name": "trainingPythonVenv",
   "language": "python",
   "name": "python3"
  },
  "language_info": {
   "codemirror_mode": {
    "name": "ipython",
    "version": 3
   },
   "file_extension": ".py",
   "mimetype": "text/x-python",
   "name": "python",
   "nbconvert_exporter": "python",
   "pygments_lexer": "ipython3",
   "version": "3.11.1"
  },
  "orig_nbformat": 4,
  "vscode": {
   "interpreter": {
    "hash": "0f7ad6c2ff82035f801958456177196141e0bcf066c32398566673996f542d5a"
   }
  }
 },
 "nbformat": 4,
 "nbformat_minor": 2
}
