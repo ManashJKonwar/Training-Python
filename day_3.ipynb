{
 "cells": [
  {
   "attachments": {},
   "cell_type": "markdown",
   "metadata": {},
   "source": [
    "# **Day 3/5**: Python Training\n",
    "\n",
    "The objective of this notebook is to cover some important concepts which we came across during our day 3 of the python training session. In this notebook, we will quickly cover few important concepts - Structuring code using classes reading and writing 3 essential file types - csv, json and txt and also exploring certain built in python modules. \n",
    "\n",
    "Refer to the outline of this notebook below to browse through different sections of this notebook.  "
   ]
  },
  {
   "attachments": {},
   "cell_type": "markdown",
   "metadata": {},
   "source": [
    "## **Table of Contents**  \n",
    "* [Classes](#classes)  \n",
    "    * [Basics](#basics)  \n",
    "    * [Class Attributes](#class-attributes)  \n",
    "    * [Functions](#functions)\n",
    "    * [Inheritance](#inheritance)  \n",
    "    * [Overriding](#overriding)  \n",
    "* [File Operations](#file-operations)  \n",
    "    * [Reading / Writing CSV](#reading-/-writing-csv)  \n",
    "    * [Reading / Writing JSON](#reading-/-writing-json)  \n",
    "    * [Reading / Writing TXT](#reading-/-writing-txt)  \n",
    "* [Built in Modules](#built-in-modules)\n",
    "    * [random module](#random-module)  \n",
    "    * [time module](#time-module)  \n",
    "    * [re module](#re-module)  \n",
    "    * [os / sys module](#os-/-sys-module)"
   ]
  },
  {
   "attachments": {},
   "cell_type": "markdown",
   "metadata": {},
   "source": [
    "## **Classes**\n",
    "\n",
    "[Back to contents](#table-of-contents)"
   ]
  },
  {
   "attachments": {},
   "cell_type": "markdown",
   "metadata": {},
   "source": [
    "### Basics"
   ]
  },
  {
   "cell_type": "code",
   "execution_count": 1,
   "metadata": {},
   "outputs": [],
   "source": [
    "class TrainingClass:\n",
    "    \"\"\"\n",
    "    This is an example of how we draft an class object and encapsulate functions within it\n",
    "    \"\"\"\n",
    "    def __init__(self, training_day, training_team):\n",
    "        \"\"\"\n",
    "        This is python equivalent of C++ constructer and is called every time the\n",
    "        class is initialized\n",
    "        Args:\n",
    "            training_day (int): day no of training\n",
    "            training_team (str): name of training team\n",
    "        \"\"\"\n",
    "        self._training_day = training_day\n",
    "        self._training_team = training_team\n",
    "        \n",
    "    def print_session_info(self):\n",
    "        \"\"\"\n",
    "        This method is resposible for printing the training day no for whichever training team\n",
    "        \"\"\"\n",
    "        print(\"Today is %s day for  %s team of python training\" %(str(self._training_day), self._training_team))"
   ]
  },
  {
   "cell_type": "code",
   "execution_count": 2,
   "metadata": {},
   "outputs": [],
   "source": [
    "training_class_instance = TrainingClass(training_day='3', training_team='MLOps')"
   ]
  },
  {
   "cell_type": "code",
   "execution_count": 3,
   "metadata": {},
   "outputs": [
    {
     "name": "stdout",
     "output_type": "stream",
     "text": [
      "Today is 3 day for  MLOps team of python training\n"
     ]
    }
   ],
   "source": [
    "training_class_instance.print_session_info()"
   ]
  },
  {
   "attachments": {},
   "cell_type": "markdown",
   "metadata": {},
   "source": [
    "### Class Attributes"
   ]
  },
  {
   "cell_type": "code",
   "execution_count": 4,
   "metadata": {},
   "outputs": [],
   "source": [
    "class TrainingClassAttribute:\n",
    "    \"\"\"\n",
    "    This is an example of how we draft an class object and encapsulate functions within it\n",
    "    \"\"\"\n",
    "    class_attr = 0 # Class attributes\n",
    "\n",
    "    def __init__(self, training_day, training_team):\n",
    "        \"\"\"\n",
    "        This is python equivalent of C++ constructer and is called every time the\n",
    "        class is initialized\n",
    "        Args:\n",
    "            training_day (int): day no of training\n",
    "            training_team (str): name of training team\n",
    "        \"\"\"\n",
    "        self._training_day = training_day\n",
    "        self._training_team = training_team\n",
    "        \n",
    "    def print_session_info(self):\n",
    "        \"\"\"\n",
    "        This method is resposible for printing the training day no for whichever training team\n",
    "        \"\"\"\n",
    "        print(\"Today is %s day for  %s team of python training\" %(str(self._training_day), self._training_team))\n",
    "        \n",
    "    def adding(self):\n",
    "        \"\"\"\n",
    "        This method is responsible for incrementing the class attribute by 1 unit\n",
    "        \"\"\"\n",
    "        TrainingClassAttribute.class_attr += 1"
   ]
  },
  {
   "cell_type": "code",
   "execution_count": 5,
   "metadata": {},
   "outputs": [
    {
     "name": "stdout",
     "output_type": "stream",
     "text": [
      "Today is 3 day for  MLOps team of python training\n",
      "1\n"
     ]
    }
   ],
   "source": [
    "instance_01 = TrainingClassAttribute(training_day = 3, training_team = \"MLOps\")\n",
    "instance_01.print_session_info()\n",
    "instance_01.adding()\n",
    "print(instance_01.class_attr) # Class attribute can be updated from any instance and is not at all encapsulated"
   ]
  },
  {
   "cell_type": "code",
   "execution_count": 6,
   "metadata": {},
   "outputs": [
    {
     "name": "stdout",
     "output_type": "stream",
     "text": [
      "Today is 4 day for  MLArchitecture team of python training\n",
      "2\n"
     ]
    }
   ],
   "source": [
    "instance_02 = TrainingClassAttribute(training_day = 4, training_team = \"MLArchitecture\")\n",
    "instance_02.print_session_info()\n",
    "instance_02.adding()\n",
    "print(instance_02.class_attr) # Class attribute can be updated from any instance and is not at all encapsulated"
   ]
  },
  {
   "attachments": {},
   "cell_type": "markdown",
   "metadata": {},
   "source": [
    "### Functions"
   ]
  },
  {
   "cell_type": "code",
   "execution_count": 7,
   "metadata": {},
   "outputs": [],
   "source": [
    "class TrainingClass:\n",
    "    \"\"\"\n",
    "    This is an example of how we draft an class object and encapsulate functions within it\n",
    "    \"\"\"\n",
    "    class_attr = 0\n",
    "\n",
    "    def __init__(self, training_day, training_team):\n",
    "        \"\"\"\n",
    "        This is python equivalent of C++ constructer and is called every time the\n",
    "        class is initialized\n",
    "        Args:\n",
    "            training_day (int): day no of training\n",
    "            training_team (str): name of training team\n",
    "        \"\"\"\n",
    "        self._training_day = training_day\n",
    "        self._training_team = training_team\t\n",
    "\n",
    "    def print_session_info(self):\n",
    "        \"\"\"\n",
    "        This method is resposible for printing the training day no for whichever training team\n",
    "        \"\"\"\n",
    "        print(\"Today is %s day for  %s team of python training\" %(str(self._training_day), self._training_team))\n",
    "\n",
    "    def adding(self):\n",
    "        TrainingClass.class_attr += 1\n",
    "        \n",
    "# Here \"print_session_info\" will be considered as the method within the TrainingClass instance."
   ]
  },
  {
   "attachments": {},
   "cell_type": "markdown",
   "metadata": {},
   "source": [
    "### Inheritance"
   ]
  },
  {
   "cell_type": "code",
   "execution_count": 8,
   "metadata": {},
   "outputs": [],
   "source": [
    "# OOPS 4 pillars of it\n",
    "# Inheritance -> Parents at home (fathers they have set of genetic features + moms have anther set of genetic features = child inherit their genetics)\n",
    "\n",
    "# Father class\n",
    "# Mom class\n",
    "# ChildClass (FatherClass, MomClass)\n",
    "\n",
    "class MobileClass:\n",
    "    \"\"\"\n",
    "    This is an example of Parent Class\n",
    "    \"\"\"\n",
    "    def __init__(self, call, sms):\n",
    "        \"\"\"\n",
    "        This is python equivalent of C++ constructer and is called every time the\n",
    "        class for Mobile parent class is initialized\n",
    "\n",
    "        Args:\n",
    "            call (bool): 1st boolean parameter as to if the call feature is existing\n",
    "            sms (bool): 2nd boolean parameter as to if the sms feature is existing\n",
    "        \"\"\"\n",
    "        self._call = call\n",
    "        self._sms = sms\n",
    "    \n",
    "    def print_session_info(self):\n",
    "        \"\"\"\n",
    "        This method is resposible printing message from parent class\n",
    "        \"\"\"\n",
    "        print(\"Today we are exploring mobile class as the parent class\")\n",
    "    \n",
    "class SamsungClass(MobileClass):\n",
    "    def __init__(self, call, sms):\n",
    "        \"\"\"\n",
    "        This is python equivalent of C++ constructer and is called every time the\n",
    "        child class for Samsung Class is initialized\n",
    "\n",
    "        Args:\n",
    "            call (bool): 1st boolean parameter as to if the call feature is existing\n",
    "            sms (bool): 2nd boolean parameter as to if the call feature is existing\n",
    "        \"\"\"\n",
    "        super().__init__(call, sms)\n",
    "        \n",
    "        self._curved_glass = \"curved OLED\"\n",
    "        self._slider = False\n",
    "        \n",
    "class OneplusClass(MobileClass):\n",
    "    def __init__(self, call, sms):\n",
    "        \"\"\"\n",
    "        This is python equivalent of C++ constructer and is called every time the\n",
    "        child class for One Plus is initialized\n",
    "\n",
    "        Args:\n",
    "            call (bool): 1st boolean parameter as to if the call feature is existing\n",
    "            sms (bool): 2nd boolean parameter as to if the call feature is existing\n",
    "        \"\"\"\n",
    "        super().__init__(call, sms)\n",
    "        \n",
    "        self._curved_glass = \"OLED\"\n",
    "        self._slider = True"
   ]
  },
  {
   "cell_type": "code",
   "execution_count": 9,
   "metadata": {},
   "outputs": [],
   "source": [
    "samsumg_instance = SamsungClass(call=True, sms=True)\n",
    "oneplus_instance = OneplusClass(call=True, sms=True)"
   ]
  },
  {
   "cell_type": "code",
   "execution_count": 10,
   "metadata": {},
   "outputs": [
    {
     "data": {
      "text/plain": [
       "False"
      ]
     },
     "execution_count": 10,
     "metadata": {},
     "output_type": "execute_result"
    }
   ],
   "source": [
    "samsumg_instance._slider"
   ]
  },
  {
   "cell_type": "code",
   "execution_count": 11,
   "metadata": {},
   "outputs": [
    {
     "data": {
      "text/plain": [
       "True"
      ]
     },
     "execution_count": 11,
     "metadata": {},
     "output_type": "execute_result"
    }
   ],
   "source": [
    "oneplus_instance._slider"
   ]
  },
  {
   "attachments": {},
   "cell_type": "markdown",
   "metadata": {},
   "source": [
    "### Overriding"
   ]
  },
  {
   "cell_type": "code",
   "execution_count": 12,
   "metadata": {},
   "outputs": [],
   "source": [
    "class MobileClass_v2:\n",
    "    \"\"\"\n",
    "    This is an example of Parent Class\n",
    "    \"\"\"\n",
    "    def __init__(self, call, sms):\n",
    "        \"\"\"\n",
    "        This is python equivalent of C++ constructer and is called every time the\n",
    "        class for Mobile parent class is initialized\n",
    "\n",
    "        Args:\n",
    "            call (bool): 1st boolean parameter as to if the call feature is existing\n",
    "            sms (bool): 2nd boolean parameter as to if the sms feature is existing\n",
    "        \"\"\"\n",
    "        self._call = call\n",
    "        self._sms = sms\n",
    "    \n",
    "    def print_session_info(self):\n",
    "        print(\"Today we are exploring mobile class as the parent class\")\n",
    "    \n",
    "class SamsungClass_v2(MobileClass_v2):\n",
    "    def __init__(self, call, sms):\n",
    "        \"\"\"\n",
    "        This is python equivalent of C++ constructer and is called every time the\n",
    "        child class for Samsung Class is initialized\n",
    "\n",
    "        Args:\n",
    "            call (bool): 1st boolean parameter as to if the call feature is existing\n",
    "            sms (bool): 2nd boolean parameter as to if the call feature is existing\n",
    "        \"\"\"\n",
    "        super().__init__(call, sms)\n",
    "        \n",
    "        self._curved_glass = \"OLED display\"\n",
    "        self._slider = False\n",
    "        \n",
    "    def print_session_info(self):\n",
    "        print('Base Class have been overriden from Samsung Class')\n",
    "        \n",
    "class OneplusClass_v2(MobileClass_v2):\n",
    "    def __init__(self, call, sms):\n",
    "        \"\"\"\n",
    "        This is python equivalent of C++ constructer and is called every time the\n",
    "        child class for One Plus is initialized\n",
    "\n",
    "        Args:\n",
    "            call (bool): 1st boolean parameter as to if the call feature is existing\n",
    "            sms (bool): 2nd boolean parameter as to if the call feature is existing\n",
    "        \"\"\"\n",
    "        super().__init__(call, sms)\n",
    "        \n",
    "        self._curved_glass = \"OLED\"\n",
    "        self._slider = True"
   ]
  },
  {
   "cell_type": "code",
   "execution_count": 13,
   "metadata": {},
   "outputs": [],
   "source": [
    "samsumg_instance_v2 = SamsungClass_v2(call=True, sms=True)\n",
    "oneplus_instance_v2 = OneplusClass_v2(call=True, sms=True)"
   ]
  },
  {
   "cell_type": "code",
   "execution_count": 14,
   "metadata": {},
   "outputs": [
    {
     "name": "stdout",
     "output_type": "stream",
     "text": [
      "Base Class have been overriden from Samsung Class\n"
     ]
    }
   ],
   "source": [
    "samsumg_instance_v2.print_session_info()"
   ]
  },
  {
   "cell_type": "code",
   "execution_count": 15,
   "metadata": {},
   "outputs": [
    {
     "name": "stdout",
     "output_type": "stream",
     "text": [
      "Today we are exploring mobile class as the parent class\n"
     ]
    }
   ],
   "source": [
    "oneplus_instance_v2.print_session_info()"
   ]
  },
  {
   "attachments": {},
   "cell_type": "markdown",
   "metadata": {},
   "source": [
    "## **File Operations**\n",
    "\n",
    "[Back to contents](#table-of-contents)"
   ]
  },
  {
   "attachments": {},
   "cell_type": "markdown",
   "metadata": {},
   "source": [
    "### Reading / Writing CSV"
   ]
  },
  {
   "cell_type": "code",
   "execution_count": 16,
   "metadata": {},
   "outputs": [],
   "source": [
    "import pandas as pd"
   ]
  },
  {
   "attachments": {},
   "cell_type": "markdown",
   "metadata": {},
   "source": [
    "#### Writing CSV"
   ]
  },
  {
   "cell_type": "code",
   "execution_count": 17,
   "metadata": {},
   "outputs": [
    {
     "data": {
      "text/html": [
       "<div>\n",
       "<style scoped>\n",
       "    .dataframe tbody tr th:only-of-type {\n",
       "        vertical-align: middle;\n",
       "    }\n",
       "\n",
       "    .dataframe tbody tr th {\n",
       "        vertical-align: top;\n",
       "    }\n",
       "\n",
       "    .dataframe thead th {\n",
       "        text-align: right;\n",
       "    }\n",
       "</style>\n",
       "<table border=\"1\" class=\"dataframe\">\n",
       "  <thead>\n",
       "    <tr style=\"text-align: right;\">\n",
       "      <th></th>\n",
       "      <th>training_day</th>\n",
       "      <th>coverage</th>\n",
       "    </tr>\n",
       "  </thead>\n",
       "  <tbody>\n",
       "    <tr>\n",
       "      <th>0</th>\n",
       "      <td>day_1</td>\n",
       "      <td>2</td>\n",
       "    </tr>\n",
       "    <tr>\n",
       "      <th>1</th>\n",
       "      <td>day_2</td>\n",
       "      <td>3</td>\n",
       "    </tr>\n",
       "    <tr>\n",
       "      <th>2</th>\n",
       "      <td>day_3</td>\n",
       "      <td>5</td>\n",
       "    </tr>\n",
       "    <tr>\n",
       "      <th>3</th>\n",
       "      <td>day_4</td>\n",
       "      <td>4</td>\n",
       "    </tr>\n",
       "    <tr>\n",
       "      <th>4</th>\n",
       "      <td>day_5</td>\n",
       "      <td>1</td>\n",
       "    </tr>\n",
       "  </tbody>\n",
       "</table>\n",
       "</div>"
      ],
      "text/plain": [
       "  training_day  coverage\n",
       "0        day_1         2\n",
       "1        day_2         3\n",
       "2        day_3         5\n",
       "3        day_4         4\n",
       "4        day_5         1"
      ]
     },
     "execution_count": 17,
     "metadata": {},
     "output_type": "execute_result"
    }
   ],
   "source": [
    "# Writing pandas dataframe to csv\n",
    "data_dict = {\"training_day\": [\"day_1\", \"day_2\", \"day_3\", \"day_4\", \"day_5\"], \"coverage\": [2, 3, 5, 4, 1] }\n",
    "data = pd.DataFrame(data_dict)\n",
    "data"
   ]
  },
  {
   "cell_type": "code",
   "execution_count": 18,
   "metadata": {},
   "outputs": [],
   "source": [
    "data.to_csv('training_data.csv', index=False)"
   ]
  },
  {
   "attachments": {},
   "cell_type": "markdown",
   "metadata": {},
   "source": [
    "#### Reading CSV"
   ]
  },
  {
   "cell_type": "code",
   "execution_count": 19,
   "metadata": {},
   "outputs": [
    {
     "data": {
      "text/html": [
       "<div>\n",
       "<style scoped>\n",
       "    .dataframe tbody tr th:only-of-type {\n",
       "        vertical-align: middle;\n",
       "    }\n",
       "\n",
       "    .dataframe tbody tr th {\n",
       "        vertical-align: top;\n",
       "    }\n",
       "\n",
       "    .dataframe thead th {\n",
       "        text-align: right;\n",
       "    }\n",
       "</style>\n",
       "<table border=\"1\" class=\"dataframe\">\n",
       "  <thead>\n",
       "    <tr style=\"text-align: right;\">\n",
       "      <th></th>\n",
       "      <th>training_day</th>\n",
       "      <th>coverage</th>\n",
       "    </tr>\n",
       "  </thead>\n",
       "  <tbody>\n",
       "    <tr>\n",
       "      <th>0</th>\n",
       "      <td>day_1</td>\n",
       "      <td>2</td>\n",
       "    </tr>\n",
       "    <tr>\n",
       "      <th>1</th>\n",
       "      <td>day_2</td>\n",
       "      <td>3</td>\n",
       "    </tr>\n",
       "    <tr>\n",
       "      <th>2</th>\n",
       "      <td>day_3</td>\n",
       "      <td>5</td>\n",
       "    </tr>\n",
       "    <tr>\n",
       "      <th>3</th>\n",
       "      <td>day_4</td>\n",
       "      <td>4</td>\n",
       "    </tr>\n",
       "    <tr>\n",
       "      <th>4</th>\n",
       "      <td>day_5</td>\n",
       "      <td>1</td>\n",
       "    </tr>\n",
       "  </tbody>\n",
       "</table>\n",
       "</div>"
      ],
      "text/plain": [
       "  training_day  coverage\n",
       "0        day_1         2\n",
       "1        day_2         3\n",
       "2        day_3         5\n",
       "3        day_4         4\n",
       "4        day_5         1"
      ]
     },
     "execution_count": 19,
     "metadata": {},
     "output_type": "execute_result"
    }
   ],
   "source": [
    "# Reading/parsing csv\n",
    "data2 = pd.read_csv('training_data.csv')\n",
    "data2"
   ]
  },
  {
   "cell_type": "code",
   "execution_count": 20,
   "metadata": {},
   "outputs": [],
   "source": [
    "data2['coverage'] = data2['coverage'].astype(float)"
   ]
  },
  {
   "cell_type": "code",
   "execution_count": 21,
   "metadata": {},
   "outputs": [
    {
     "data": {
      "text/plain": [
       "dtype('float64')"
      ]
     },
     "execution_count": 21,
     "metadata": {},
     "output_type": "execute_result"
    }
   ],
   "source": [
    "data2['coverage'].dtype"
   ]
  },
  {
   "cell_type": "code",
   "execution_count": 22,
   "metadata": {},
   "outputs": [
    {
     "data": {
      "text/html": [
       "<div>\n",
       "<style scoped>\n",
       "    .dataframe tbody tr th:only-of-type {\n",
       "        vertical-align: middle;\n",
       "    }\n",
       "\n",
       "    .dataframe tbody tr th {\n",
       "        vertical-align: top;\n",
       "    }\n",
       "\n",
       "    .dataframe thead th {\n",
       "        text-align: right;\n",
       "    }\n",
       "</style>\n",
       "<table border=\"1\" class=\"dataframe\">\n",
       "  <thead>\n",
       "    <tr style=\"text-align: right;\">\n",
       "      <th></th>\n",
       "      <th>coverage</th>\n",
       "    </tr>\n",
       "  </thead>\n",
       "  <tbody>\n",
       "    <tr>\n",
       "      <th>0</th>\n",
       "      <td>2</td>\n",
       "    </tr>\n",
       "    <tr>\n",
       "      <th>1</th>\n",
       "      <td>3</td>\n",
       "    </tr>\n",
       "    <tr>\n",
       "      <th>2</th>\n",
       "      <td>5</td>\n",
       "    </tr>\n",
       "    <tr>\n",
       "      <th>3</th>\n",
       "      <td>4</td>\n",
       "    </tr>\n",
       "    <tr>\n",
       "      <th>4</th>\n",
       "      <td>1</td>\n",
       "    </tr>\n",
       "  </tbody>\n",
       "</table>\n",
       "</div>"
      ],
      "text/plain": [
       "   coverage\n",
       "0         2\n",
       "1         3\n",
       "2         5\n",
       "3         4\n",
       "4         1"
      ]
     },
     "execution_count": 22,
     "metadata": {},
     "output_type": "execute_result"
    }
   ],
   "source": [
    "# Reading/parsing csv and extracting only specified columns\n",
    "data3 = pd.read_csv('training_data.csv', usecols=['coverage'])\n",
    "data3"
   ]
  },
  {
   "attachments": {},
   "cell_type": "markdown",
   "metadata": {},
   "source": [
    "### Reading / Writing JSON"
   ]
  },
  {
   "cell_type": "code",
   "execution_count": 23,
   "metadata": {},
   "outputs": [],
   "source": [
    "import os\n",
    "import json"
   ]
  },
  {
   "attachments": {},
   "cell_type": "markdown",
   "metadata": {},
   "source": [
    "#### Reading JSON"
   ]
  },
  {
   "cell_type": "code",
   "execution_count": 24,
   "metadata": {},
   "outputs": [
    {
     "data": {
      "text/plain": [
       "{'day1': {'concepts_covered': ['python installation',\n",
       "   'python basic data types']},\n",
       " 'day2': {'concepts_covered': ['conditions & loops', 'functions']},\n",
       " 'day3': {'concepts_covered': ['classes',\n",
       "   'file operations',\n",
       "   'important modules']},\n",
       " 'day4': {'concepts_covered': ['pandas usage',\n",
       "   'numpy usage',\n",
       "   'matplotlib usage',\n",
       "   'plotly usage']},\n",
       " 'day5': ['assessement', 'feedback']}"
      ]
     },
     "execution_count": 24,
     "metadata": {},
     "output_type": "execute_result"
    }
   ],
   "source": [
    "# Using json.load\n",
    "with open(os.path.join('data', 'json_data.json')) as json_file:\n",
    "    data = json.load(json_file)\n",
    "data"
   ]
  },
  {
   "cell_type": "code",
   "execution_count": 25,
   "metadata": {},
   "outputs": [
    {
     "name": "stdout",
     "output_type": "stream",
     "text": [
      "<class 'str'>\n"
     ]
    },
    {
     "data": {
      "text/plain": [
       "'{\"day1\": {\"concepts_covered\": [\"python installation\", \"python basic data types\"]}, \"day2\": {\"concepts_covered\": [\"conditions & loops\", \"functions\"]}, \"day3\": {\"concepts_covered\": [\"classes\", \"file operations\", \"important modules\"]}, \"day4\": {\"concepts_covered\": [\"pandas usage\", \"numpy usage\", \"matplotlib usage\", \"plotly usage\"]}, \"day5\": [\"assessement\", \"feedback\"]}'"
      ]
     },
     "execution_count": 25,
     "metadata": {},
     "output_type": "execute_result"
    }
   ],
   "source": [
    "print(type(json.dumps(data)))\n",
    "json_string = json.dumps(data)\n",
    "json_string"
   ]
  },
  {
   "cell_type": "code",
   "execution_count": 26,
   "metadata": {},
   "outputs": [
    {
     "data": {
      "text/plain": [
       "{'day1': {'concepts_covered': ['python installation',\n",
       "   'python basic data types']},\n",
       " 'day2': {'concepts_covered': ['conditions & loops', 'functions']},\n",
       " 'day3': {'concepts_covered': ['classes',\n",
       "   'file operations',\n",
       "   'important modules']},\n",
       " 'day4': {'concepts_covered': ['pandas usage',\n",
       "   'numpy usage',\n",
       "   'matplotlib usage',\n",
       "   'plotly usage']},\n",
       " 'day5': ['assessement', 'feedback']}"
      ]
     },
     "execution_count": 26,
     "metadata": {},
     "output_type": "execute_result"
    }
   ],
   "source": [
    "dict = json.loads(json_string)\n",
    "dict"
   ]
  },
  {
   "attachments": {},
   "cell_type": "markdown",
   "metadata": {},
   "source": [
    "#### Writing JSON"
   ]
  },
  {
   "cell_type": "code",
   "execution_count": 27,
   "metadata": {},
   "outputs": [],
   "source": [
    "# Define data as a Python dictionary\n",
    "data = {\n",
    "    \"name\": \"Training Bot\",\n",
    "    \"age\": 32,\n",
    "    \"city\": \"Bengaluru\"\n",
    "}\n",
    "# Convert the Python dictionary to a JSON object\n",
    "json_data = json.dumps(data)\n",
    "# Write the JSON object to a file\n",
    "with open(os.path.join(\"data\", \"json_write_data.json\"), \"w\") as file:\n",
    "    file.write(json_data)"
   ]
  },
  {
   "attachments": {},
   "cell_type": "markdown",
   "metadata": {},
   "source": [
    "### Reading / Writing TXT"
   ]
  },
  {
   "attachments": {},
   "cell_type": "markdown",
   "metadata": {},
   "source": [
    "#### Reading TXT"
   ]
  },
  {
   "cell_type": "code",
   "execution_count": 28,
   "metadata": {},
   "outputs": [
    {
     "name": "stdout",
     "output_type": "stream",
     "text": [
      "This is the first line of txt file\n",
      "\n",
      "This is the second line of txt file\n"
     ]
    }
   ],
   "source": [
    "# Open the file in read mode\n",
    "with open(os.path.join(\"data\", \"txt_data.txt\"), \"r\") as file:\n",
    "    # Read the contents of the file\n",
    "    contents = file.read()\n",
    "print(contents)"
   ]
  },
  {
   "attachments": {},
   "cell_type": "markdown",
   "metadata": {},
   "source": [
    "#### Writing TXT"
   ]
  },
  {
   "cell_type": "code",
   "execution_count": null,
   "metadata": {},
   "outputs": [],
   "source": [
    "# Open the file in write mode\n",
    "with open(os.path.join(\"data\", \"txt_write_data.txt\"), \"w\") as file:\n",
    "    # Write to the file\n",
    "    file.write(\"This is the third line of txt file which was dumped programmatically\")\n",
    "    \n",
    "    file.write(\"\\n\\nPrevious 2 lines were removed\")"
   ]
  },
  {
   "attachments": {},
   "cell_type": "markdown",
   "metadata": {},
   "source": [
    "#### Append TXT"
   ]
  },
  {
   "cell_type": "code",
   "execution_count": null,
   "metadata": {},
   "outputs": [],
   "source": [
    "# Open the file in append mode\n",
    "with open(os.path.join(\"data\", \"txt_data.txt\"), \"a\") as file:\n",
    "    # Write to the file\n",
    "    file.write(\"\\nThis is the third line of txt file which was appended programmatically\")"
   ]
  },
  {
   "attachments": {},
   "cell_type": "markdown",
   "metadata": {},
   "source": [
    "## **Built in Modules**\n",
    "\n",
    "[Back to contents](#table-of-contents)"
   ]
  },
  {
   "attachments": {},
   "cell_type": "markdown",
   "metadata": {},
   "source": [
    "### random module"
   ]
  },
  {
   "attachments": {},
   "cell_type": "markdown",
   "metadata": {},
   "source": [
    "### time module"
   ]
  },
  {
   "attachments": {},
   "cell_type": "markdown",
   "metadata": {},
   "source": [
    "### re module"
   ]
  },
  {
   "attachments": {},
   "cell_type": "markdown",
   "metadata": {},
   "source": [
    "### os / sys module"
   ]
  }
 ],
 "metadata": {
  "kernelspec": {
   "display_name": "trainingPythonVenv",
   "language": "python",
   "name": "python3"
  },
  "language_info": {
   "codemirror_mode": {
    "name": "ipython",
    "version": 3
   },
   "file_extension": ".py",
   "mimetype": "text/x-python",
   "name": "python",
   "nbconvert_exporter": "python",
   "pygments_lexer": "ipython3",
   "version": "3.11.1"
  },
  "orig_nbformat": 4,
  "vscode": {
   "interpreter": {
    "hash": "0f7ad6c2ff82035f801958456177196141e0bcf066c32398566673996f542d5a"
   }
  }
 },
 "nbformat": 4,
 "nbformat_minor": 2
}
