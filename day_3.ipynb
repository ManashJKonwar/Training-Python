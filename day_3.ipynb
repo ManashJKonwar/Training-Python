{
 "cells": [
  {
   "attachments": {},
   "cell_type": "markdown",
   "metadata": {},
   "source": [
    "# **Day 3/5**: Python Training\n",
    "\n",
    "The objective of this notebook is to cover some important concepts which we came across during our day 3 of the python training session. In this notebook, we will quickly cover few important concepts - Structuring code using classes reading and writing 3 essential file types - csv, json and txt and also exploring certain built in python modules. \n",
    "\n",
    "Refer to the outline of this notebook below to browse through different sections of this notebook.  "
   ]
  },
  {
   "attachments": {},
   "cell_type": "markdown",
   "metadata": {},
   "source": [
    "## **Table of Contents**  \n",
    "* [Classes](#classes)  \n",
    "    * [Basics](#basics)  \n",
    "    * [Class Attributes](#class-attributes)  \n",
    "    * [Functions](#functions)\n",
    "    * [Inheritance](#inheritance)  \n",
    "    * [Overriding](#overriding)  \n",
    "* [File Operations](#file-operations)  \n",
    "    * [Reading / Writing CSV](#reading-/-writing-csv)  \n",
    "    * [Reading / Writing JSON](#reading-/-writing-json)  \n",
    "    * [Reading / Writing TXT](#reading-/-writing-txt)  \n",
    "* [Built in Modules](#built-in-modules)\n",
    "    * [random module](#random-module)  \n",
    "    * [time module](#time-module)  \n",
    "    * [re module](#re-module)  \n",
    "    * [os / sys module](#os-/-sys-module)"
   ]
  },
  {
   "attachments": {},
   "cell_type": "markdown",
   "metadata": {},
   "source": [
    "## **Classes**\n",
    "\n",
    "[Back to contents](#table-of-contents)"
   ]
  },
  {
   "attachments": {},
   "cell_type": "markdown",
   "metadata": {},
   "source": [
    "### Basics"
   ]
  },
  {
   "cell_type": "code",
   "execution_count": 1,
   "metadata": {},
   "outputs": [],
   "source": [
    "class TrainingClass:\n",
    "    \"\"\"\n",
    "    This is an example of how we draft an class object and encapsulate functions within it\n",
    "    \"\"\"\n",
    "    def __init__(self, training_day, training_team):\n",
    "        \"\"\"\n",
    "        This is python equivalent of C++ constructer and is called every time the\n",
    "        class is initialized\n",
    "        Args:\n",
    "            training_day (int): day no of training\n",
    "            training_team (str): name of training team\n",
    "        \"\"\"\n",
    "        self._training_day = training_day\n",
    "        self._training_team = training_team\n",
    "        \n",
    "    def print_session_info(self):\n",
    "        \"\"\"\n",
    "        This method is resposible for printing the training day no for whichever training team\n",
    "        \"\"\"\n",
    "        print(\"Today is %s day for  %s team of python training\" %(str(self._training_day), self._training_team))"
   ]
  },
  {
   "cell_type": "code",
   "execution_count": 2,
   "metadata": {},
   "outputs": [],
   "source": [
    "training_class_instance = TrainingClass(training_day='3', training_team='MLOps')"
   ]
  },
  {
   "cell_type": "code",
   "execution_count": 3,
   "metadata": {},
   "outputs": [
    {
     "name": "stdout",
     "output_type": "stream",
     "text": [
      "Today is 3 day for  MLOps team of python training\n"
     ]
    }
   ],
   "source": [
    "training_class_instance.print_session_info()"
   ]
  },
  {
   "attachments": {},
   "cell_type": "markdown",
   "metadata": {},
   "source": [
    "### Class Attributes"
   ]
  },
  {
   "cell_type": "code",
   "execution_count": 4,
   "metadata": {},
   "outputs": [],
   "source": [
    "class TrainingClassAttribute:\n",
    "    \"\"\"\n",
    "    This is an example of how we draft an class object and encapsulate functions within it\n",
    "    \"\"\"\n",
    "    class_attr = 0 # Class attributes\n",
    "\n",
    "    def __init__(self, training_day, training_team):\n",
    "        \"\"\"\n",
    "        This is python equivalent of C++ constructer and is called every time the\n",
    "        class is initialized\n",
    "        Args:\n",
    "            training_day (int): day no of training\n",
    "            training_team (str): name of training team\n",
    "        \"\"\"\n",
    "        self._training_day = training_day\n",
    "        self._training_team = training_team\n",
    "        \n",
    "    def print_session_info(self):\n",
    "        \"\"\"\n",
    "        This method is resposible for printing the training day no for whichever training team\n",
    "        \"\"\"\n",
    "        print(\"Today is %s day for  %s team of python training\" %(str(self._training_day), self._training_team))\n",
    "        \n",
    "    def adding(self):\n",
    "        \"\"\"\n",
    "        This method is responsible for incrementing the class attribute by 1 unit\n",
    "        \"\"\"\n",
    "        TrainingClassAttribute.class_attr += 1"
   ]
  },
  {
   "cell_type": "code",
   "execution_count": 5,
   "metadata": {},
   "outputs": [
    {
     "name": "stdout",
     "output_type": "stream",
     "text": [
      "Today is 3 day for  MLOps team of python training\n",
      "1\n"
     ]
    }
   ],
   "source": [
    "instance_01 = TrainingClassAttribute(training_day = 3, training_team = \"MLOps\")\n",
    "instance_01.print_session_info()\n",
    "instance_01.adding()\n",
    "print(instance_01.class_attr) # Class attribute can be updated from any instance and is not at all encapsulated"
   ]
  },
  {
   "cell_type": "code",
   "execution_count": 6,
   "metadata": {},
   "outputs": [
    {
     "name": "stdout",
     "output_type": "stream",
     "text": [
      "Today is 4 day for  MLArchitecture team of python training\n",
      "2\n"
     ]
    }
   ],
   "source": [
    "instance_02 = TrainingClassAttribute(training_day = 4, training_team = \"MLArchitecture\")\n",
    "instance_02.print_session_info()\n",
    "instance_02.adding()\n",
    "print(instance_02.class_attr) # Class attribute can be updated from any instance and is not at all encapsulated"
   ]
  },
  {
   "attachments": {},
   "cell_type": "markdown",
   "metadata": {},
   "source": [
    "### Functions"
   ]
  },
  {
   "cell_type": "code",
   "execution_count": 7,
   "metadata": {},
   "outputs": [],
   "source": [
    "class TrainingClass:\n",
    "    \"\"\"\n",
    "    This is an example of how we draft an class object and encapsulate functions within it\n",
    "    \"\"\"\n",
    "    class_attr = 0\n",
    "\n",
    "    def __init__(self, training_day, training_team):\n",
    "        \"\"\"\n",
    "        This is python equivalent of C++ constructer and is called every time the\n",
    "        class is initialized\n",
    "        Args:\n",
    "            training_day (int): day no of training\n",
    "            training_team (str): name of training team\n",
    "        \"\"\"\n",
    "        self._training_day = training_day\n",
    "        self._training_team = training_team\t\n",
    "\n",
    "    def print_session_info(self):\n",
    "        \"\"\"\n",
    "        This method is resposible for printing the training day no for whichever training team\n",
    "        \"\"\"\n",
    "        print(\"Today is %s day for  %s team of python training\" %(str(self._training_day), self._training_team))\n",
    "\n",
    "    def adding(self):\n",
    "        TrainingClass.class_attr += 1\n",
    "        \n",
    "# Here \"print_session_info\" will be considered as the method within the TrainingClass instance."
   ]
  },
  {
   "attachments": {},
   "cell_type": "markdown",
   "metadata": {},
   "source": [
    "### Inheritance"
   ]
  },
  {
   "cell_type": "code",
   "execution_count": 8,
   "metadata": {},
   "outputs": [],
   "source": [
    "# OOPS 4 pillars of it\n",
    "# Inheritance -> Parents at home (fathers they have set of genetic features + moms have anther set of genetic features = child inherit their genetics)\n",
    "\n",
    "# Fath cLass\n",
    "# Mom class\n",
    "# childClass (FatherClass, MomClass)\n",
    "\n",
    "class MobileClass:\n",
    "    \"\"\"\n",
    "    This is an example of Parent Class\n",
    "    \"\"\"\n",
    "    def __init__(self, call, sms):\n",
    "        \"\"\"\n",
    "        This is python equivalent of C++ constructer and is called every time the\n",
    "        class for Mobile parent class is initialized\n",
    "\n",
    "        Args:\n",
    "            call (bool): 1st boolean parameter as to if the call feature is existing\n",
    "            sms (bool): 2nd boolean parameter as to if the sms feature is existing\n",
    "        \"\"\"\n",
    "        self._call = call\n",
    "        self._sms = sms\n",
    "    \n",
    "    def print_session_info(self):\n",
    "        \"\"\"\n",
    "        This method is resposible printing message from parent class\n",
    "        \"\"\"\n",
    "        print(\"Today we are exploring mobile class as the parent class\")\n",
    "    \n",
    "class SamsungClass(MobileClass):\n",
    "    def __init__(self, call, sms):\n",
    "        \"\"\"\n",
    "        This is python equivalent of C++ constructer and is called every time the\n",
    "        child class for Samsung Class is initialized\n",
    "\n",
    "        Args:\n",
    "            call (bool): 1st boolean parameter as to if the call feature is existing\n",
    "            sms (bool): 2nd boolean parameter as to if the call feature is existing\n",
    "        \"\"\"\n",
    "        super().__init__(call, sms)\n",
    "        \n",
    "        self._curved_glass = \"curved OLED\"\n",
    "        self._slider = False\n",
    "        \n",
    "class OneplusClass(MobileClass):\n",
    "    def __init__(self, call, sms):\n",
    "        \"\"\"\n",
    "        This is python equivalent of C++ constructer and is called every time the\n",
    "        child class for One Plus is initialized\n",
    "\n",
    "        Args:\n",
    "            call (bool): 1st boolean parameter as to if the call feature is existing\n",
    "            sms (bool): 2nd boolean parameter as to if the call feature is existing\n",
    "        \"\"\"\n",
    "        super().__init__(call, sms)\n",
    "        \n",
    "        self._curved_glass = \"OLED\"\n",
    "        self._slider = True"
   ]
  },
  {
   "cell_type": "code",
   "execution_count": 9,
   "metadata": {},
   "outputs": [],
   "source": [
    "samsumg_instance = SamsungClass(call=True, sms=True)\n",
    "oneplus_instance = OneplusClass(call=True, sms=True)"
   ]
  },
  {
   "cell_type": "code",
   "execution_count": 10,
   "metadata": {},
   "outputs": [
    {
     "data": {
      "text/plain": [
       "False"
      ]
     },
     "execution_count": 10,
     "metadata": {},
     "output_type": "execute_result"
    }
   ],
   "source": [
    "samsumg_instance._slider"
   ]
  },
  {
   "cell_type": "code",
   "execution_count": 11,
   "metadata": {},
   "outputs": [
    {
     "data": {
      "text/plain": [
       "True"
      ]
     },
     "execution_count": 11,
     "metadata": {},
     "output_type": "execute_result"
    }
   ],
   "source": [
    "oneplus_instance._slider"
   ]
  },
  {
   "attachments": {},
   "cell_type": "markdown",
   "metadata": {},
   "source": [
    "### Overriding"
   ]
  },
  {
   "cell_type": "code",
   "execution_count": 12,
   "metadata": {},
   "outputs": [],
   "source": [
    "class MobileClass_v2:\n",
    "    \"\"\"\n",
    "    This is an example of Parent Class\n",
    "    \"\"\"\n",
    "    def __init__(self, call, sms):\n",
    "        \"\"\"\n",
    "        This is python equivalent of C++ constructer and is called every time the\n",
    "        class for Mobile parent class is initialized\n",
    "\n",
    "        Args:\n",
    "            call (bool): 1st boolean parameter as to if the call feature is existing\n",
    "            sms (bool): 2nd boolean parameter as to if the sms feature is existing\n",
    "        \"\"\"\n",
    "        self._call = call\n",
    "        self._sms = sms\n",
    "    \n",
    "    def print_session_info(self):\n",
    "        print(\"Today we are exploring mobile class as the parent class\")\n",
    "    \n",
    "class SamsungClass_v2(MobileClass_v2):\n",
    "    def __init__(self, call, sms):\n",
    "        \"\"\"\n",
    "        This is python equivalent of C++ constructer and is called every time the\n",
    "        child class for Samsung Class is initialized\n",
    "\n",
    "        Args:\n",
    "            call (bool): 1st boolean parameter as to if the call feature is existing\n",
    "            sms (bool): 2nd boolean parameter as to if the call feature is existing\n",
    "        \"\"\"\n",
    "        super().__init__(call, sms)\n",
    "        \n",
    "        self._curved_glass = \"OLED display\"\n",
    "        self._slider = False\n",
    "        \n",
    "    def print_session_info(self):\n",
    "        print('Base Class have been overriden from Samsung Class')\n",
    "        \n",
    "class OneplusClass_v2(MobileClass_v2):\n",
    "    def __init__(self, call, sms):\n",
    "        \"\"\"\n",
    "        This is python equivalent of C++ constructer and is called every time the\n",
    "        child class for One Plus is initialized\n",
    "\n",
    "        Args:\n",
    "            call (bool): 1st boolean parameter as to if the call feature is existing\n",
    "            sms (bool): 2nd boolean parameter as to if the call feature is existing\n",
    "        \"\"\"\n",
    "        super().__init__(call, sms)\n",
    "        \n",
    "        self._curved_glass = \"OLED\"\n",
    "        self._slider = True"
   ]
  },
  {
   "cell_type": "code",
   "execution_count": 13,
   "metadata": {},
   "outputs": [],
   "source": [
    "samsumg_instance_v2 = SamsungClass_v2(call=True, sms=True)\n",
    "oneplus_instance_v2 = OneplusClass_v2(call=True, sms=True)"
   ]
  },
  {
   "cell_type": "code",
   "execution_count": 14,
   "metadata": {},
   "outputs": [
    {
     "name": "stdout",
     "output_type": "stream",
     "text": [
      "Base Class have been overriden from Samsung Class\n"
     ]
    }
   ],
   "source": [
    "samsumg_instance_v2.print_session_info()"
   ]
  },
  {
   "cell_type": "code",
   "execution_count": 15,
   "metadata": {},
   "outputs": [
    {
     "name": "stdout",
     "output_type": "stream",
     "text": [
      "Today we are exploring mobile class as the parent class\n"
     ]
    }
   ],
   "source": [
    "oneplus_instance_v2.print_session_info()"
   ]
  },
  {
   "attachments": {},
   "cell_type": "markdown",
   "metadata": {},
   "source": [
    "## **File Operations**\n",
    "\n",
    "[Back to contents](#table-of-contents)"
   ]
  },
  {
   "attachments": {},
   "cell_type": "markdown",
   "metadata": {},
   "source": [
    "### Reading / Writing CSV"
   ]
  },
  {
   "attachments": {},
   "cell_type": "markdown",
   "metadata": {},
   "source": [
    "### Reading / Writing JSON"
   ]
  },
  {
   "attachments": {},
   "cell_type": "markdown",
   "metadata": {},
   "source": [
    "### Reading / Writing TXT"
   ]
  },
  {
   "attachments": {},
   "cell_type": "markdown",
   "metadata": {},
   "source": [
    "## **Built in Modules**\n",
    "\n",
    "[Back to contents](#table-of-contents)"
   ]
  },
  {
   "attachments": {},
   "cell_type": "markdown",
   "metadata": {},
   "source": [
    "### random module"
   ]
  },
  {
   "attachments": {},
   "cell_type": "markdown",
   "metadata": {},
   "source": [
    "### time module"
   ]
  },
  {
   "attachments": {},
   "cell_type": "markdown",
   "metadata": {},
   "source": [
    "### re module"
   ]
  },
  {
   "attachments": {},
   "cell_type": "markdown",
   "metadata": {},
   "source": [
    "### os / sys module"
   ]
  }
 ],
 "metadata": {
  "kernelspec": {
   "display_name": "trainingPythonVenv",
   "language": "python",
   "name": "python3"
  },
  "language_info": {
   "codemirror_mode": {
    "name": "ipython",
    "version": 3
   },
   "file_extension": ".py",
   "mimetype": "text/x-python",
   "name": "python",
   "nbconvert_exporter": "python",
   "pygments_lexer": "ipython3",
   "version": "3.11.1"
  },
  "orig_nbformat": 4,
  "vscode": {
   "interpreter": {
    "hash": "0f7ad6c2ff82035f801958456177196141e0bcf066c32398566673996f542d5a"
   }
  }
 },
 "nbformat": 4,
 "nbformat_minor": 2
}
