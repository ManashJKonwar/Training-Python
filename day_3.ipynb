{
 "cells": [
  {
   "attachments": {},
   "cell_type": "markdown",
   "metadata": {},
   "source": [
    "# **Day 3/5**: Python Training\n",
    "\n",
    "The objective of this notebook is to cover some important concepts which we came across during our day 3 of the python training session. In this notebook, we will quickly cover few important concepts - Structuring code using classes reading and writing 3 essential file types - csv, json and txt and also exploring certain built in python modules. \n",
    "\n",
    "Refer to the outline of this notebook below to browse through different sections of this notebook.  "
   ]
  },
  {
   "attachments": {},
   "cell_type": "markdown",
   "metadata": {},
   "source": [
    "## **Table of Contents**  \n",
    "* [Classes](#classes)  \n",
    "    * [Basics](#basics)  \n",
    "    * [Class Attributes](#class-attributes)  \n",
    "    * [Functions](#functions)\n",
    "    * [Inheritance](#inheritance)  \n",
    "    * [Overriding](#overriding)  \n",
    "* [File Operations](#file-operations)  \n",
    "    * [Reading / Writing CSV](#reading-writing-csv)  \n",
    "    * [Reading / Writing JSON](#reading-writing-json)  \n",
    "    * [Reading / Writing TXT](#reading-writing-txt)  \n",
    "* [Built in Modules](#built-in-modules)"
   ]
  }
 ],
 "metadata": {
  "kernelspec": {
   "display_name": "trainingPythonVenv",
   "language": "python",
   "name": "python3"
  },
  "language_info": {
   "name": "python",
   "version": "3.11.1 (tags/v3.11.1:a7a450f, Dec  6 2022, 19:58:39) [MSC v.1934 64 bit (AMD64)]"
  },
  "orig_nbformat": 4,
  "vscode": {
   "interpreter": {
    "hash": "0f7ad6c2ff82035f801958456177196141e0bcf066c32398566673996f542d5a"
   }
  }
 },
 "nbformat": 4,
 "nbformat_minor": 2
}
