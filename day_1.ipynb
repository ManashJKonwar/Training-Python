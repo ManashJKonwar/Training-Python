{
 "cells": [
  {
   "attachments": {},
   "cell_type": "markdown",
   "metadata": {},
   "source": [
    "# **Day 1/5**: Python Training\n",
    "\n",
    "The objective of this notebook is to cover some important concepts which we came across during our day 1 of the python training session. In this notebook, we will quickly cover the basic data types existing within python and also see through some built in functions around these data types.  \n",
    "\n",
    "Refer to the outline of this notebook below to browse through different sections of this notebook.  "
   ]
  },
  {
   "attachments": {},
   "cell_type": "markdown",
   "metadata": {},
   "source": [
    "## **Table of Contents**  \n",
    "* [Numerical Data Types](#numeric-data-types)  \n",
    "    * [Integer](#integer)  \n",
    "    * [Float](#float)  \n",
    "    * [Complex](#complex)  \n",
    "* [Sequential Data Types](#sequential-data-types)  \n",
    "    * [String](#string)  \n",
    "    * [List](#list)  \n",
    "    * [Tuple](#tuple)  \n",
    "* [Dictionary Data Type](#dictionary-data-type)  \n",
    "* [Boolean Data Type](#boolean-data-type)  \n",
    "* [Set Data Type](#set-data-type)"
   ]
  },
  {
   "attachments": {},
   "cell_type": "markdown",
   "metadata": {},
   "source": [
    "## **Numeric Data Types**  \n",
    "\n",
    "[Back to contents](#table-of-contents)"
   ]
  },
  {
   "attachments": {},
   "cell_type": "markdown",
   "metadata": {},
   "source": [
    "### Integer"
   ]
  },
  {
   "cell_type": "code",
   "execution_count": 1,
   "metadata": {},
   "outputs": [
    {
     "name": "stdout",
     "output_type": "stream",
     "text": [
      "Type of variable : <class 'int'>\n"
     ]
    }
   ],
   "source": [
    "# Declaration of integer variable\n",
    "a = 1000\n",
    "print('Type of variable : %s' %(str(type(a))))"
   ]
  },
  {
   "attachments": {},
   "cell_type": "markdown",
   "metadata": {},
   "source": [
    "### Float"
   ]
  },
  {
   "cell_type": "code",
   "execution_count": 2,
   "metadata": {},
   "outputs": [
    {
     "name": "stdout",
     "output_type": "stream",
     "text": [
      "Type of variable : <class 'float'>\n"
     ]
    }
   ],
   "source": [
    "# Declaration of float variable\n",
    "b = 1000.5\n",
    "print('Type of variable : %s' %(str(type(b))))"
   ]
  },
  {
   "attachments": {},
   "cell_type": "markdown",
   "metadata": {},
   "source": [
    "### Complex"
   ]
  },
  {
   "cell_type": "code",
   "execution_count": 3,
   "metadata": {},
   "outputs": [
    {
     "name": "stdout",
     "output_type": "stream",
     "text": [
      "Type of variable : <class 'complex'>\n"
     ]
    }
   ],
   "source": [
    "# Declaration of complex variable\n",
    "c = 1000 + 3j\n",
    "print('Type of variable : %s' %(str(type(c))))"
   ]
  },
  {
   "attachments": {},
   "cell_type": "markdown",
   "metadata": {},
   "source": [
    "## **Sequential Data Types**  \n",
    "\n",
    "[Back to contents](#table-of-contents)"
   ]
  },
  {
   "attachments": {},
   "cell_type": "markdown",
   "metadata": {},
   "source": [
    "### String"
   ]
  },
  {
   "cell_type": "code",
   "execution_count": 4,
   "metadata": {},
   "outputs": [
    {
     "name": "stdout",
     "output_type": "stream",
     "text": [
      "<class 'str'>\n",
      "<class 'str'>\n",
      "<class 'str'>\n"
     ]
    }
   ],
   "source": [
    "# Declaration of string variables in three different ways\n",
    "a = 'This is training string inside single quote'\n",
    "print(type(a))\n",
    "\n",
    "b = \"This is training string inside double quotes\"\n",
    "print(type(b))\n",
    "\n",
    "c = '''This is training string inside triple quotes'''\n",
    "print(type(c))"
   ]
  },
  {
   "cell_type": "code",
   "execution_count": 5,
   "metadata": {},
   "outputs": [
    {
     "ename": "SyntaxError",
     "evalue": "invalid syntax (1642683239.py, line 2)",
     "output_type": "error",
     "traceback": [
      "\u001b[1;36m  Cell \u001b[1;32mIn[5], line 2\u001b[1;36m\u001b[0m\n\u001b[1;33m    test_string = \"We are so called \"MarkOps\" team undergoing this 1st day of python training\"\u001b[0m\n\u001b[1;37m                                     ^\u001b[0m\n\u001b[1;31mSyntaxError\u001b[0m\u001b[1;31m:\u001b[0m invalid syntax\n"
     ]
    }
   ],
   "source": [
    "# Unavailability of escape character (\\)\n",
    "test_string = \"We are so called \"MarkOps\" team undergoing this 1st day of python training\"\n",
    "test_string"
   ]
  },
  {
   "cell_type": "code",
   "execution_count": 6,
   "metadata": {},
   "outputs": [
    {
     "data": {
      "text/plain": [
       "'We are so called \"MarkOps\" team undergoing this 1st day of python training'"
      ]
     },
     "execution_count": 6,
     "metadata": {},
     "output_type": "execute_result"
    }
   ],
   "source": [
    "# Use of escape character (\\) to represent symbols inside string\n",
    "test_string = \"We are so called \\\"MarkOps\\\" team undergoing this 1st day of python training\"\n",
    "test_string"
   ]
  },
  {
   "attachments": {},
   "cell_type": "markdown",
   "metadata": {},
   "source": [
    "### List"
   ]
  },
  {
   "cell_type": "code",
   "execution_count": 7,
   "metadata": {},
   "outputs": [
    {
     "data": {
      "text/plain": [
       "['list_element_01', 'list_element_02', 25, 100.55]"
      ]
     },
     "execution_count": 7,
     "metadata": {},
     "output_type": "execute_result"
    }
   ],
   "source": [
    "# Declaration of list data type\n",
    "test_list = ['list_element_01',  'list_element_02', 25, 100.55]\n",
    "test_list"
   ]
  },
  {
   "cell_type": "code",
   "execution_count": 8,
   "metadata": {},
   "outputs": [
    {
     "name": "stdout",
     "output_type": "stream",
     "text": [
      "list_element_01\n",
      "['list_element_01', 'list_element_02']\n"
     ]
    }
   ],
   "source": [
    "# List indexing and slicing\n",
    "print(test_list[0])\n",
    "print(test_list[:2])"
   ]
  },
  {
   "cell_type": "code",
   "execution_count": 9,
   "metadata": {},
   "outputs": [
    {
     "data": {
      "text/plain": [
       "75"
      ]
     },
     "execution_count": 9,
     "metadata": {},
     "output_type": "execute_result"
    }
   ],
   "source": [
    "# List are mutable\n",
    "test_list[2] = test_list[2] + 50\n",
    "test_list[2]"
   ]
  },
  {
   "cell_type": "code",
   "execution_count": 10,
   "metadata": {},
   "outputs": [
    {
     "name": "stdout",
     "output_type": "stream",
     "text": [
      "test list after appending 1000 to it: [1, 2, 5, 1000]\n",
      "test list after extending another list to it: [1, 2, 5, 'extend_01', 'extend_02']\n",
      "test list after inserting one more element at 1st index to it: [1, 'insert_element_02', 2, 5]\n",
      "test list after removing element 2 from it: [1, 5, 2, 10]\n",
      "test list after popping element in 1st index from it: [1, 5]\n",
      "Index of element 2 in the list: 1\n",
      "Total occurences of element 2 in the list: 2\n",
      "Sorted list: None\n"
     ]
    }
   ],
   "source": [
    "# List operations\n",
    "test_list = [1, 2, 5]\n",
    "test_list.append(1000)\n",
    "print(\"test list after appending 1000 to it: \" + str(test_list))\n",
    "\n",
    "test_list = [1, 2, 5]\n",
    "test_list.extend(['extend_01', 'extend_02'])\n",
    "print(\"test list after extending another list to it: \" + str(test_list))\n",
    "\n",
    "test_list = [1, 2, 5]\n",
    "test_list.insert(1, 'insert_element_02')\n",
    "print(\"test list after inserting one more element at 1st index to it: \" + str(test_list))\n",
    "\n",
    "test_list = [1, 2, 5, 2, 10]\n",
    "test_list.remove(2)\n",
    "print(\"test list after removing element 2 from it: \" + str(test_list))\n",
    "\n",
    "test_list = [1, 2, 5]\n",
    "test_list.pop(1)\n",
    "print(\"test list after popping element in 1st index from it: \" + str(test_list))\n",
    "\n",
    "test_list = [1, 2, 5]\n",
    "print(\"Index of element 2 in the list: \"+ str(test_list.index(2)))\n",
    "\n",
    "test_list = [1, 2, 5, 2, 10]\n",
    "print(\"Total occurences of element 2 in the list: \" + str(test_list.count(2)))\n",
    "\n",
    "tets_list = [10, 2, 5, 1, 3]\n",
    "print(\"Sorted list: \" + str(test_list.sort()))"
   ]
  },
  {
   "attachments": {},
   "cell_type": "markdown",
   "metadata": {},
   "source": [
    "### Tuple"
   ]
  },
  {
   "attachments": {},
   "cell_type": "markdown",
   "metadata": {},
   "source": [
    "## **Dictionary Data Type**  \n",
    "\n",
    "[Back to contents](#table-of-contents)"
   ]
  },
  {
   "attachments": {},
   "cell_type": "markdown",
   "metadata": {},
   "source": [
    "## **Boolean Data Type**  \n",
    "\n",
    "[Back to contents](#table-of-contents)"
   ]
  },
  {
   "attachments": {},
   "cell_type": "markdown",
   "metadata": {},
   "source": [
    "## **Set Data Type**  \n",
    "\n",
    "[Back to contents](#table-of-contents)"
   ]
  }
 ],
 "metadata": {
  "kernelspec": {
   "display_name": "trainingPythonVenv",
   "language": "python",
   "name": "python3"
  },
  "language_info": {
   "codemirror_mode": {
    "name": "ipython",
    "version": 3
   },
   "file_extension": ".py",
   "mimetype": "text/x-python",
   "name": "python",
   "nbconvert_exporter": "python",
   "pygments_lexer": "ipython3",
   "version": "3.11.1"
  },
  "orig_nbformat": 4,
  "vscode": {
   "interpreter": {
    "hash": "0f7ad6c2ff82035f801958456177196141e0bcf066c32398566673996f542d5a"
   }
  }
 },
 "nbformat": 4,
 "nbformat_minor": 2
}
