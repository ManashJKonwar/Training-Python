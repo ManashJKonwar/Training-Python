{
 "cells": [
  {
   "attachments": {},
   "cell_type": "markdown",
   "metadata": {},
   "source": [
    "# **Day 1/5**: Python Training\n",
    "\n",
    "The objective of this notebook is to cover some important concepts which we came across during our day 1 of the python training session. In this notebook, we will quickly cover the basic data types existing within python and also see through some built in functions around these data types.  \n",
    "\n",
    "Refer to the outline of this notebook below to browse through different sections of this notebook.  "
   ]
  },
  {
   "attachments": {},
   "cell_type": "markdown",
   "metadata": {},
   "source": [
    "## **Table of Contents**  \n",
    "* [Numerical Data Types](#numeric-data-types)  \n",
    "    * [Integer](#integer)  \n",
    "    * [Float](#float)  \n",
    "    * [Complex](#complex)  \n",
    "* [Sequential Data Types](#sequential-data-types)  \n",
    "    * [String](#string)  \n",
    "    * [List](#list)  \n",
    "    * [Tuple](#tuple)  \n",
    "* [Dictionary Data Type](#dictionary-data-type)  \n",
    "* [Boolean Data Type](#boolean-data-type)  \n",
    "* [Set Data Type](#set-data-type)"
   ]
  },
  {
   "attachments": {},
   "cell_type": "markdown",
   "metadata": {},
   "source": [
    "## **Numeric Data Types**  \n",
    "\n",
    "[Back to contents](#table-of-contents)"
   ]
  },
  {
   "attachments": {},
   "cell_type": "markdown",
   "metadata": {},
   "source": [
    "### Integer"
   ]
  },
  {
   "attachments": {},
   "cell_type": "markdown",
   "metadata": {},
   "source": [
    "### Float"
   ]
  },
  {
   "attachments": {},
   "cell_type": "markdown",
   "metadata": {},
   "source": [
    "### Complex"
   ]
  },
  {
   "attachments": {},
   "cell_type": "markdown",
   "metadata": {},
   "source": [
    "## **Sequential Data Types**  \n",
    "\n",
    "[Back to contents](#table-of-contents)"
   ]
  },
  {
   "attachments": {},
   "cell_type": "markdown",
   "metadata": {},
   "source": [
    "### String"
   ]
  },
  {
   "attachments": {},
   "cell_type": "markdown",
   "metadata": {},
   "source": [
    "### List"
   ]
  },
  {
   "attachments": {},
   "cell_type": "markdown",
   "metadata": {},
   "source": [
    "### Tuple"
   ]
  },
  {
   "attachments": {},
   "cell_type": "markdown",
   "metadata": {},
   "source": [
    "## **Dictionary Data Type**  \n",
    "\n",
    "[Back to contents](#table-of-contents)"
   ]
  },
  {
   "attachments": {},
   "cell_type": "markdown",
   "metadata": {},
   "source": [
    "## **Boolean Data Type**  \n",
    "\n",
    "[Back to contents](#table-of-contents)"
   ]
  },
  {
   "attachments": {},
   "cell_type": "markdown",
   "metadata": {},
   "source": [
    "## **Set Data Type**  \n",
    "\n",
    "[Back to contents](#table-of-contents)"
   ]
  }
 ],
 "metadata": {
  "kernelspec": {
   "display_name": "trainingPythonVenv",
   "language": "python",
   "name": "python3"
  },
  "language_info": {
   "name": "python",
   "version": "3.9.13 (tags/v3.9.13:6de2ca5, May 17 2022, 16:36:42) [MSC v.1929 64 bit (AMD64)]"
  },
  "orig_nbformat": 4,
  "vscode": {
   "interpreter": {
    "hash": "0f7ad6c2ff82035f801958456177196141e0bcf066c32398566673996f542d5a"
   }
  }
 },
 "nbformat": 4,
 "nbformat_minor": 2
}
