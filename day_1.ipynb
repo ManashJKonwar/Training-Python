{
 "cells": [
  {
   "attachments": {},
   "cell_type": "markdown",
   "metadata": {},
   "source": [
    "# **Day 1/5**: Python Training\n",
    "\n",
    "The objective of this notebook is to cover some important concepts which we came across during our day 1 of the python training session. In this notebook, we will quickly cover the basic data types existing within python and also see through some built in functions around these data types.  \n",
    "\n",
    "Refer to the outline of this notebook below to browse through different sections of this notebook.  "
   ]
  },
  {
   "attachments": {},
   "cell_type": "markdown",
   "metadata": {},
   "source": [
    "## **Table of Contents**  \n",
    "* [Numerical Data Types](#numeric-data-types)  \n",
    "    * [Integer](#integer)  \n",
    "    * [Float](#float)  \n",
    "    * [Complex](#complex)  \n",
    "* [Sequential Data Types](#sequential-data-types)  \n",
    "    * [String](#string)  \n",
    "    * [List](#list)  \n",
    "    * [Tuple](#tuple)  \n",
    "* [Dictionary Data Type](#dictionary-data-type)  \n",
    "* [Boolean Data Type](#boolean-data-type)  \n",
    "* [Set Data Type](#set-data-type)"
   ]
  },
  {
   "attachments": {},
   "cell_type": "markdown",
   "metadata": {},
   "source": [
    "## **Numeric Data Types**  \n",
    "\n",
    "[Back to contents](#table-of-contents)"
   ]
  },
  {
   "attachments": {},
   "cell_type": "markdown",
   "metadata": {},
   "source": [
    "### Integer"
   ]
  },
  {
   "cell_type": "code",
   "execution_count": 1,
   "metadata": {},
   "outputs": [
    {
     "name": "stdout",
     "output_type": "stream",
     "text": [
      "Type of variable : <class 'int'>\n"
     ]
    }
   ],
   "source": [
    "# Declaration of integer variable\n",
    "a = 1000\n",
    "print('Type of variable : %s' %(str(type(a))))"
   ]
  },
  {
   "attachments": {},
   "cell_type": "markdown",
   "metadata": {},
   "source": [
    "### Float"
   ]
  },
  {
   "cell_type": "code",
   "execution_count": 2,
   "metadata": {},
   "outputs": [
    {
     "name": "stdout",
     "output_type": "stream",
     "text": [
      "Type of variable : <class 'float'>\n"
     ]
    }
   ],
   "source": [
    "# Declaration of float variable\n",
    "b = 1000.5\n",
    "print('Type of variable : %s' %(str(type(b))))"
   ]
  },
  {
   "attachments": {},
   "cell_type": "markdown",
   "metadata": {},
   "source": [
    "### Complex"
   ]
  },
  {
   "cell_type": "code",
   "execution_count": 3,
   "metadata": {},
   "outputs": [
    {
     "name": "stdout",
     "output_type": "stream",
     "text": [
      "Type of variable : <class 'complex'>\n"
     ]
    }
   ],
   "source": [
    "# Declaration of complex variable\n",
    "c = 1000 + 3j\n",
    "print('Type of variable : %s' %(str(type(c))))"
   ]
  },
  {
   "attachments": {},
   "cell_type": "markdown",
   "metadata": {},
   "source": [
    "## **Sequential Data Types**  \n",
    "\n",
    "[Back to contents](#table-of-contents)"
   ]
  },
  {
   "attachments": {},
   "cell_type": "markdown",
   "metadata": {},
   "source": [
    "### String"
   ]
  },
  {
   "cell_type": "code",
   "execution_count": 4,
   "metadata": {},
   "outputs": [
    {
     "name": "stdout",
     "output_type": "stream",
     "text": [
      "<class 'str'>\n",
      "<class 'str'>\n",
      "<class 'str'>\n"
     ]
    }
   ],
   "source": [
    "# Declaration of string variables in three different ways\n",
    "a = 'This is training string inside single quote'\n",
    "print(type(a))\n",
    "\n",
    "b = \"This is training string inside double quotes\"\n",
    "print(type(b))\n",
    "\n",
    "c = '''This is training string inside triple quotes'''\n",
    "print(type(c))"
   ]
  },
  {
   "cell_type": "code",
   "execution_count": 5,
   "metadata": {},
   "outputs": [
    {
     "ename": "SyntaxError",
     "evalue": "invalid syntax (1642683239.py, line 2)",
     "output_type": "error",
     "traceback": [
      "\u001b[1;36m  Cell \u001b[1;32mIn[5], line 2\u001b[1;36m\u001b[0m\n\u001b[1;33m    test_string = \"We are so called \"MarkOps\" team undergoing this 1st day of python training\"\u001b[0m\n\u001b[1;37m                                     ^\u001b[0m\n\u001b[1;31mSyntaxError\u001b[0m\u001b[1;31m:\u001b[0m invalid syntax\n"
     ]
    }
   ],
   "source": [
    "# Unavailability of escape character (\\)\n",
    "test_string = \"We are so called \"MarkOps\" team undergoing this 1st day of python training\"\n",
    "test_string"
   ]
  },
  {
   "cell_type": "code",
   "execution_count": 6,
   "metadata": {},
   "outputs": [
    {
     "data": {
      "text/plain": [
       "'We are so called \"MarkOps\" team undergoing this 1st day of python training'"
      ]
     },
     "execution_count": 6,
     "metadata": {},
     "output_type": "execute_result"
    }
   ],
   "source": [
    "# Use of escape character (\\) to represent symbols inside string\n",
    "test_string = \"We are so called \\\"MarkOps\\\" team undergoing this 1st day of python training\"\n",
    "test_string"
   ]
  },
  {
   "attachments": {},
   "cell_type": "markdown",
   "metadata": {},
   "source": [
    "### List"
   ]
  },
  {
   "cell_type": "code",
   "execution_count": 7,
   "metadata": {},
   "outputs": [
    {
     "data": {
      "text/plain": [
       "['list_element_01', 'list_element_02', 25, 100.55]"
      ]
     },
     "execution_count": 7,
     "metadata": {},
     "output_type": "execute_result"
    }
   ],
   "source": [
    "# Declaration of list data type\n",
    "test_list = ['list_element_01',  'list_element_02', 25, 100.55]\n",
    "test_list"
   ]
  },
  {
   "cell_type": "code",
   "execution_count": 8,
   "metadata": {},
   "outputs": [
    {
     "name": "stdout",
     "output_type": "stream",
     "text": [
      "list_element_01\n",
      "['list_element_01', 'list_element_02']\n"
     ]
    }
   ],
   "source": [
    "# List indexing and slicing\n",
    "print(test_list[0])\n",
    "print(test_list[:2])"
   ]
  },
  {
   "cell_type": "code",
   "execution_count": 9,
   "metadata": {},
   "outputs": [
    {
     "data": {
      "text/plain": [
       "75"
      ]
     },
     "execution_count": 9,
     "metadata": {},
     "output_type": "execute_result"
    }
   ],
   "source": [
    "# List are mutable\n",
    "test_list[2] = test_list[2] + 50\n",
    "test_list[2]"
   ]
  },
  {
   "cell_type": "code",
   "execution_count": 10,
   "metadata": {},
   "outputs": [
    {
     "name": "stdout",
     "output_type": "stream",
     "text": [
      "test list after appending 1000 to it: [1, 2, 5, 1000]\n",
      "test list after extending another list to it: [1, 2, 5, 'extend_01', 'extend_02']\n",
      "test list after inserting one more element at 1st index to it: [1, 'insert_element_02', 2, 5]\n",
      "test list after removing element 2 from it: [1, 5, 2, 10]\n",
      "test list after popping element in 1st index from it: [1, 5]\n",
      "Index of element 2 in the list: 1\n",
      "Total occurences of element 2 in the list: 2\n",
      "Sorted list: [1, 2, 3, 5, 10]\n"
     ]
    }
   ],
   "source": [
    "# List operations\n",
    "\n",
    "# Appending new element to the list\n",
    "test_list = [1, 2, 5]\n",
    "test_list.append(1000)\n",
    "print(\"test list after appending 1000 to it: \" + str(test_list))\n",
    "\n",
    "# Extending a list with another sequence data type\n",
    "test_list = [1, 2, 5]\n",
    "test_list.extend(['extend_01', 'extend_02'])\n",
    "print(\"test list after extending another list to it: \" + str(test_list))\n",
    "\n",
    "# Inserting element at specific index \n",
    "test_list = [1, 2, 5]\n",
    "test_list.insert(1, 'insert_element_02')\n",
    "print(\"test list after inserting one more element at 1st index to it: \" + str(test_list))\n",
    "\n",
    "# Removing specific element from the list\n",
    "test_list = [1, 2, 5, 2, 10]\n",
    "test_list.remove(2)\n",
    "print(\"test list after removing element 2 from it: \" + str(test_list))\n",
    "\n",
    "# Removing element from specific index\n",
    "test_list = [1, 2, 5]\n",
    "test_list.pop(1)\n",
    "print(\"test list after popping element in 1st index from it: \" + str(test_list))\n",
    "\n",
    "# Getting index of a specific element\n",
    "test_list = [1, 2, 5]\n",
    "print(\"Index of element 2 in the list: \"+ str(test_list.index(2)))\n",
    "\n",
    "# No of occurence for a specific element\n",
    "test_list = [1, 2, 5, 2, 10]\n",
    "print(\"Total occurences of element 2 in the list: \" + str(test_list.count(2)))\n",
    "\n",
    "# Sorting a list\n",
    "test_list = [10, 2, 5, 1, 3]\n",
    "test_list.sort()\n",
    "print(\"Sorted list: \" + str(test_list))"
   ]
  },
  {
   "attachments": {},
   "cell_type": "markdown",
   "metadata": {},
   "source": [
    "### Tuple"
   ]
  },
  {
   "cell_type": "code",
   "execution_count": 11,
   "metadata": {},
   "outputs": [
    {
     "data": {
      "text/plain": [
       "('tuple_element_01', 'tuple_element_02', 25, 100.55)"
      ]
     },
     "execution_count": 11,
     "metadata": {},
     "output_type": "execute_result"
    }
   ],
   "source": [
    "# Declaration of tuple data type\n",
    "test_tuple = ('tuple_element_01',  'tuple_element_02', 25, 100.55)\n",
    "test_tuple"
   ]
  },
  {
   "cell_type": "code",
   "execution_count": 12,
   "metadata": {},
   "outputs": [
    {
     "name": "stdout",
     "output_type": "stream",
     "text": [
      "tuple_element_01\n",
      "('tuple_element_01', 'tuple_element_02')\n"
     ]
    }
   ],
   "source": [
    "# Tuple indexing and slicing\n",
    "print(test_tuple[0])\n",
    "print(test_tuple[:2])"
   ]
  },
  {
   "cell_type": "code",
   "execution_count": 13,
   "metadata": {},
   "outputs": [
    {
     "ename": "TypeError",
     "evalue": "'tuple' object does not support item assignment",
     "output_type": "error",
     "traceback": [
      "\u001b[1;31m---------------------------------------------------------------------------\u001b[0m",
      "\u001b[1;31mTypeError\u001b[0m                                 Traceback (most recent call last)",
      "Cell \u001b[1;32mIn[13], line 2\u001b[0m\n\u001b[0;32m      1\u001b[0m \u001b[39m# Tuples are immutable\u001b[39;00m\n\u001b[1;32m----> 2\u001b[0m test_tuple[\u001b[39m2\u001b[39;49m] \u001b[39m=\u001b[39m test_tuple[\u001b[39m2\u001b[39m] \u001b[39m+\u001b[39m \u001b[39m50\u001b[39m\n",
      "\u001b[1;31mTypeError\u001b[0m: 'tuple' object does not support item assignment"
     ]
    }
   ],
   "source": [
    "# Tuples are immutable\n",
    "test_tuple[2] = test_tuple[2] + 50"
   ]
  },
  {
   "attachments": {},
   "cell_type": "markdown",
   "metadata": {},
   "source": [
    "## **Dictionary Data Type**  \n",
    "\n",
    "[Back to contents](#table-of-contents)"
   ]
  },
  {
   "cell_type": "code",
   "execution_count": 14,
   "metadata": {},
   "outputs": [
    {
     "data": {
      "text/plain": [
       "{'key1': 1, 2: 255.5, 1000.5: 'float_key'}"
      ]
     },
     "execution_count": 14,
     "metadata": {},
     "output_type": "execute_result"
    }
   ],
   "source": [
    "# Declaration of dictionary data type\n",
    "test_dictionary = {'key1':1 , 2: 255.5, 1000.5:'float_key'}\n",
    "test_dictionary"
   ]
  },
  {
   "cell_type": "code",
   "execution_count": 15,
   "metadata": {},
   "outputs": [
    {
     "name": "stdout",
     "output_type": "stream",
     "text": [
      "test dictionary after adding new key-value pair to it: {'key1': 1, 2: 255.5, 1000.5: 'float_key', 'newkey01': 'newvalue01'}\n",
      "copied dictionary: {'key1': 1, 2: 255.5, 1000.5: 'float_key', 'newkey01': 'newvalue01'}\n",
      "1\n",
      "dict_items([('key1', 1), (2, 255.5), (1000.5, 'float_key'), ('newkey01', 'newvalue01')])\n",
      "dict_keys(['key1', 2, 1000.5, 'newkey01'])\n",
      "dict_values([1, 255.5, 'float_key', 'newvalue01'])\n",
      "test dictionary after removing a specific key value pair: {2: 255.5, 1000.5: 'float_key', 'newkey01': 'newvalue01'}\n",
      "test dictionary after removing the lastly added key value pair: {2: 255.5, 1000.5: 'float_key'}\n",
      "test dictionary after updating new key value pair: {2: 255.5, 1000.5: 'float_key', 'newkey02': 'newvalue02'}\n"
     ]
    }
   ],
   "source": [
    "# Dictionary Operations\n",
    "\n",
    "# Adding new key-value pair\n",
    "test_dictionary['newkey01'] = 'newvalue01'\n",
    "print(\"test dictionary after adding new key-value pair to it: \" + str(test_dictionary))\n",
    "\n",
    "# Deep copy a dictionary\n",
    "copy_dictionary = test_dictionary.copy()\n",
    "print(\"copied dictionary: \" + str(copy_dictionary))\n",
    "\n",
    "# Get value of an existing key in dictionary\n",
    "print(test_dictionary.get('key1'))\n",
    "\n",
    "# Key-value pairs as list of tuples\n",
    "print(test_dictionary.items())\n",
    "\n",
    "# Keys as list of tuples\n",
    "print(test_dictionary.keys())\n",
    "\n",
    "# Values as list of tuples\n",
    "print(test_dictionary.values())\n",
    "\n",
    "# Removing a specific key-value pair by key name\n",
    "test_dictionary.pop('key1')\n",
    "print(\"test dictionary after removing a specific key value pair: \" + str(test_dictionary))\n",
    "\n",
    "# Removing the last key-value pair from dictionary\n",
    "test_dictionary.popitem()\n",
    "print(\"test dictionary after removing the lastly added key value pair: \" + str(test_dictionary))\n",
    "\n",
    "# Another way of adding a new key value pair to dictionary\n",
    "test_dictionary.update({'newkey02': 'newvalue02'})\n",
    "print(\"test dictionary after updating new key value pair: \" + str(test_dictionary))"
   ]
  },
  {
   "attachments": {},
   "cell_type": "markdown",
   "metadata": {},
   "source": [
    "## **Boolean Data Type**  \n",
    "\n",
    "[Back to contents](#table-of-contents)"
   ]
  },
  {
   "cell_type": "code",
   "execution_count": 16,
   "metadata": {},
   "outputs": [
    {
     "name": "stdout",
     "output_type": "stream",
     "text": [
      "<class 'bool'>\n",
      "<class 'bool'>\n"
     ]
    }
   ],
   "source": [
    "# Declaration of boolean data type\n",
    "a = True\n",
    "print(type(a))\n",
    " \n",
    "b = False\n",
    "print(type(b))"
   ]
  },
  {
   "attachments": {},
   "cell_type": "markdown",
   "metadata": {},
   "source": [
    "## **Set Data Type**  \n",
    "\n",
    "[Back to contents](#table-of-contents)"
   ]
  },
  {
   "cell_type": "code",
   "execution_count": 17,
   "metadata": {},
   "outputs": [
    {
     "data": {
      "text/plain": [
       "{100.55, 25, 'set_element_01', 'set_element_02'}"
      ]
     },
     "execution_count": 17,
     "metadata": {},
     "output_type": "execute_result"
    }
   ],
   "source": [
    "# Declaration of set data type\n",
    "test_set = {'set_element_01', 'set_element_02', 25, 100.55}\n",
    "test_set"
   ]
  },
  {
   "cell_type": "code",
   "execution_count": 18,
   "metadata": {},
   "outputs": [
    {
     "name": "stdout",
     "output_type": "stream",
     "text": [
      "union operated set: {1, 2, 5, 7, 10}\n",
      "intersection operated set: {2, 5}\n",
      "difference operated set: {1}\n",
      "symm intersection operated set: {1, 7, 10}\n"
     ]
    }
   ],
   "source": [
    "# Set Operations\n",
    "\n",
    "test_set_01 = {1, 2, 5}\n",
    "test_set_02 = {2, 5, 7, 10}\n",
    "\n",
    "# Union of two sets\n",
    "union_set = test_set_01.union(test_set_02)\n",
    "print(\"union operated set: \" + str(union_set))\n",
    "\n",
    "# Intersection of two sets\n",
    "intersection_set = test_set_01.intersection(test_set_02)\n",
    "print(\"intersection operated set: \" + str(intersection_set))\n",
    "\n",
    "# Difference of two sets\n",
    "difference_set = test_set_01.difference(test_set_02)\n",
    "print(\"difference operated set: \" + str(difference_set))\n",
    "\n",
    "# Symmetric difference of two sets\n",
    "symm_difference_set = test_set_01.symmetric_difference(test_set_02)\n",
    "print(\"symm intersection operated set: \" + str(symm_difference_set))"
   ]
  }
 ],
 "metadata": {
  "kernelspec": {
   "display_name": "trainingPythonVenv",
   "language": "python",
   "name": "python3"
  },
  "language_info": {
   "codemirror_mode": {
    "name": "ipython",
    "version": 3
   },
   "file_extension": ".py",
   "mimetype": "text/x-python",
   "name": "python",
   "nbconvert_exporter": "python",
   "pygments_lexer": "ipython3",
   "version": "3.11.1"
  },
  "orig_nbformat": 4,
  "vscode": {
   "interpreter": {
    "hash": "0f7ad6c2ff82035f801958456177196141e0bcf066c32398566673996f542d5a"
   }
  }
 },
 "nbformat": 4,
 "nbformat_minor": 2
}
